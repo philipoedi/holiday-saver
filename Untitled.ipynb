{
 "cells": [
  {
   "cell_type": "markdown",
   "id": "7b5b35fe-44c0-4c38-b756-7131412fcd94",
   "metadata": {},
   "source": [
    "# Hotel Booking Optimization\n",
    "Imagine planning holiday for a longer period with stops in multiple location or just a single location but finding out that there is no hotel available for the full length of the stay. In such a situation one is facing the challenge of deciding on a hotel for each location or in the latter scenario booking multiple hotels in a single location. Finding a cost-effective set of hotels is not a straigth forward task since often a plethora of hotels with varying availibility. Travellers find themselves spending a lot of time finding the optimal itinerary. Imagine for example a family that is planning a holiday for a 10-day period and they want to visit three different places. They start by considering to stay tree days in place A, 3 days in place B and four days in place C. Since this exact trajectory may seem pricey they decide to start their holiday with 3 days in place C and visit place A at the end of their journey. Then they start varying the amount of days for each city in search for a more suitable iternary. This could go on forever since there are so many combinations to try and they eventually decide for a combination that seems reasonable.  "
   ]
  },
  {
   "cell_type": "markdown",
   "id": "7bfb1aeb-0081-4cf6-99b4-0f3476e0456b",
   "metadata": {},
   "source": [
    "## Purpose\n",
    "\n",
    "The purpose of this notebook is therefore to formulate the above introduced problem as a mathematical optimization problem and implement and solve it in python. Solving such an optimization problem can be thought of as automating or supporting the otherwise very manual approach of finding a suitable set of hotels. \n"
   ]
  },
  {
   "cell_type": "markdown",
   "id": "e70892d4-a3c7-4018-80a5-38fdb2519b6c",
   "metadata": {},
   "source": [
    "## Problem\n",
    "\n",
    "Given a trip of length $n_{\\text{days}}^{\\text{total}}$ we assume that a traveller decides to split the full period into a number of periods between $n_{\\text{periods}}^{\\text{min}}$ and $n_{\\text{periods}}^{\\text{max}}$ smaller periods. We furthermore assume that the traveller wants to specify a range of days $n_{\\text{days}}^{\\text{min}}$ to $n_{\\text{days}}^{\\text{max}}$ that the traveller wants to spend at each location. This is important since the optimal sequence of hotels in a mathematical sense might not reflect the travellers perceived optimum. Imagine for example an optimal sequence of 3 hotels whereby the traveller stays each one day at the first two hotels and 13 days in the third hotel. This can of course be the an optimum in terms of price but does not seem like a joyful holiday since the traveller would just be rushing through the first two places and might be bored in city three since so much time is left.\n",
    "\n",
    "We approach this problem by considering it as shortest path problem from the first day of the holiday to the last. On the nodes of our graph/network we find available time periods of a hotel.  \n",
    "\n",
    "We introduce the follwoing indices: \n",
    "\n",
    "- $i,j \\in  [0 .. n_{\\text{days}}^{\\text{total}}-1]$\n",
    "- $k \\in  [0 ..n_{\\text{hotels}}-1]$\n",
    "\n",
    "The following components are furthermore introduced:\n",
    "\n",
    "- $X =\\{x_{k,i,j} \\in \\{0,1\\}\\} \\text{ are the decision variables. 1 representing that the decision to stay at hotel $k$ during the days $i$ and $j$.}$\n",
    "- $B = \\{b_{k,i,j} \\in \\{0,1\\}\\} \\text{ is the availability which evaluates to 1 if hotel $k$ is available during the days $i$ and $j$.}$\n",
    "- $X_\\text{free} = \\{x_{k,i,j}: b_{k,i,j} = 1, n_{\\text{days}}^{\\text{min}} \\le i-j \\le n_{\\text{days}}^{\\text{max}}\\}  \\text{ is the set of all $x_{k,i,j}$ where hotel $k$ is actually availible and the timeframe satisfies the travellers specified range.}$\n",
    "- $P = \\{p_{k,i,j} \\in \\mathbb{R}:  p_{k,i,j} > 0\\} \\text{ is the availability which evaluates to 1 if hotel $k$ is available during the days $i$ and $j$.}$ \n",
    "\n",
    "For simplicity we assume that the daily cost $c_k$ for a certain room/hotel is constant (althoug the here described approach would be flexible enough to so that one could also introduce weekly discounts or other promotions), such that.\n",
    "$$\n",
    "p_{k,i,j} = c_k (j-i)\n",
    "$$\n",
    "\n",
    "The itinerary optmization problem can then be forumulated as an integer linear program (ILP):\n",
    "\n",
    "\\begin{equation*}\n",
    "\\begin{aligned}\n",
    "& \\underset{x}{\\text{minimize}}\n",
    "&& \\sum_{X_{\\text{free}} } p_{k,i,j} x_{k,i,j}\n",
    " \\\\\n",
    "& \\text{subject to}\n",
    "&& \\sum_k \\sum_j x_{k,i,j} = 1 ~\\text{for}~ i=1  \n",
    "\\\\\n",
    "&&& \\sum_k \\sum_j x_{k,i,j} = 1  ~\\text{for}~ i= n_{\\text{days}}^{\\text{total}}-1  \n",
    "\\\\\n",
    "&&& \\sum_i \\sum_j x_{k,i,j} \\le 1  ~\\forall~ k  \n",
    "\\\\\n",
    "&&& \\sum_i \\sum_k \\sum_j x_{k,i,j} \\le n_{\\text{periods}}^{\\text{max}}    \n",
    "\\\\\n",
    "&&& \\sum_i \\sum_k \\sum_j x_{k,i,j} \\ge n_{\\text{periods}}^{\\text{min}}    \n",
    "\\\\\n",
    "&&& \\sum_k \\sum_i x_{k,i,j} - \\sum_k \\sum_i x_{k,j+1,i} = 0 ~\\text{if} ~ j \\ne n_{\\text{days}}^{\\text{total}}-1 \n",
    "\\end{aligned}\n",
    "\\end{equation*}\n",
    "\n",
    "It has to be noted that a constraint on the hotels availibility is not included as well as the length of a period, since we optimize over $X_\\text{free}$ and not the entire $X$. This can be seen as introducing a preprocessing stage in which $X_\\text{free}$ is established to reduce the order of the problem. The above introduced constraints represent the following\n",
    "\n",
    "- $\\sum_k \\sum_j x_{k,i,j} = 1 ~\\text{for}~ i=1$ assures that the journey starts on the first day.\n",
    "- $\\sum_k \\sum_j x_{k,i,j} = 1  ~\\text{for}~ i= n_{\\text{days}}^{\\text{total}}-1$ assures that the journey ends on the last day.\n",
    "- $\\sum_i \\sum_j x_{k,i,j} \\le 1  ~\\forall~ k$ represents that a hotel will only be booked once.\n",
    "- $\\sum_i \\sum_k \\sum_j x_{k,i,j} \\le n_{\\text{periods}}^{\\text{max}}$, the minimum number of places visited. \n",
    "- $\\sum_i \\sum_k \\sum_j x_{k,i,j} \\ge n_{\\text{periods}}^{\\text{min}}$, not more than the maximum number of places visited.    \n",
    "- $\\sum_k \\sum_i x_{k,i,j} - \\sum_k \\sum_i x_{k,j+1,i} = 0 ~\\text{if} ~ j \\ne n_{\\text{days}}^{\\text{total}}-1$ represents the flow conservation, such that for all days a hotel is booked.\n",
    "\n",
    "https://en.wikipedia.org/wiki/Shortest_path_problem\n"
   ]
  },
  {
   "cell_type": "markdown",
   "id": "cf16bb16-792b-4d6b-9305-2d338d9b2134",
   "metadata": {},
   "source": [
    "## Data\n",
    "\n",
    "In order to demonstrate the described problem some data is needed. Specifically values for $c_{k}$ are needed and the hotels availability in over the whole holiday. A set of hotels/rooms and prices is taken from https://www.kaggle.com/datasets/djusdjus/hotel-rooms-prices-dataset, data on the availibilty of a room will be generated from a random distribution.\n"
   ]
  },
  {
   "cell_type": "code",
   "execution_count": 7,
   "id": "42de7bf0-76ac-43cd-8704-6483dc937230",
   "metadata": {},
   "outputs": [],
   "source": [
    "import pandas as pd\n",
    "from scipy.signal import convolve2d\n",
    "import numpy as np\n",
    "import matplotlib.pyplot as plt"
   ]
  },
  {
   "cell_type": "markdown",
   "id": "56551e1e-3908-40f0-a9f8-56b8b4da48b3",
   "metadata": {},
   "source": [
    "### Cost Data $c_{k}$\n",
    "\n",
    "The cost for a night in "
   ]
  },
  {
   "cell_type": "code",
   "execution_count": 2,
   "id": "b64107aa-5c69-4c4b-be62-5545dbb6867e",
   "metadata": {},
   "outputs": [
    {
     "data": {
      "text/html": [
       "<div>\n",
       "<style scoped>\n",
       "    .dataframe tbody tr th:only-of-type {\n",
       "        vertical-align: middle;\n",
       "    }\n",
       "\n",
       "    .dataframe tbody tr th {\n",
       "        vertical-align: top;\n",
       "    }\n",
       "\n",
       "    .dataframe thead th {\n",
       "        text-align: right;\n",
       "    }\n",
       "</style>\n",
       "<table border=\"1\" class=\"dataframe\">\n",
       "  <thead>\n",
       "    <tr style=\"text-align: right;\">\n",
       "      <th></th>\n",
       "      <th>ID</th>\n",
       "      <th>Hotel name</th>\n",
       "      <th>Price(BAM)</th>\n",
       "      <th>Hotel star rating</th>\n",
       "      <th>Distance</th>\n",
       "      <th>Customer rating</th>\n",
       "      <th>Rooms</th>\n",
       "      <th>Squares</th>\n",
       "      <th>City</th>\n",
       "    </tr>\n",
       "  </thead>\n",
       "  <tbody>\n",
       "    <tr>\n",
       "      <th>0</th>\n",
       "      <td>1</td>\n",
       "      <td>Europe</td>\n",
       "      <td>139</td>\n",
       "      <td>5</td>\n",
       "      <td>350</td>\n",
       "      <td>8.3</td>\n",
       "      <td>1</td>\n",
       "      <td>25</td>\n",
       "      <td>Sarajevo</td>\n",
       "    </tr>\n",
       "    <tr>\n",
       "      <th>1</th>\n",
       "      <td>2</td>\n",
       "      <td>Europe</td>\n",
       "      <td>187</td>\n",
       "      <td>5</td>\n",
       "      <td>350</td>\n",
       "      <td>8.3</td>\n",
       "      <td>2</td>\n",
       "      <td>40</td>\n",
       "      <td>Sarajevo</td>\n",
       "    </tr>\n",
       "    <tr>\n",
       "      <th>2</th>\n",
       "      <td>3</td>\n",
       "      <td>Hills</td>\n",
       "      <td>255</td>\n",
       "      <td>5</td>\n",
       "      <td>10000</td>\n",
       "      <td>8.5</td>\n",
       "      <td>3</td>\n",
       "      <td>42</td>\n",
       "      <td>Sarajevo</td>\n",
       "    </tr>\n",
       "    <tr>\n",
       "      <th>3</th>\n",
       "      <td>4</td>\n",
       "      <td>Hills</td>\n",
       "      <td>141</td>\n",
       "      <td>5</td>\n",
       "      <td>10000</td>\n",
       "      <td>8.5</td>\n",
       "      <td>2</td>\n",
       "      <td>42</td>\n",
       "      <td>Sarajevo</td>\n",
       "    </tr>\n",
       "    <tr>\n",
       "      <th>4</th>\n",
       "      <td>5</td>\n",
       "      <td>Boutique</td>\n",
       "      <td>117</td>\n",
       "      <td>4</td>\n",
       "      <td>450</td>\n",
       "      <td>8.7</td>\n",
       "      <td>1</td>\n",
       "      <td>15</td>\n",
       "      <td>Sarajevo</td>\n",
       "    </tr>\n",
       "  </tbody>\n",
       "</table>\n",
       "</div>"
      ],
      "text/plain": [
       "   ID Hotel name  Price(BAM)  Hotel star rating  Distance  Customer rating  \\\n",
       "0   1     Europe         139                  5       350              8.3   \n",
       "1   2     Europe         187                  5       350              8.3   \n",
       "2   3      Hills         255                  5     10000              8.5   \n",
       "3   4      Hills         141                  5     10000              8.5   \n",
       "4   5   Boutique         117                  4       450              8.7   \n",
       "\n",
       "   Rooms  Squares      City  \n",
       "0      1       25  Sarajevo  \n",
       "1      2       40  Sarajevo  \n",
       "2      3       42  Sarajevo  \n",
       "3      2       42  Sarajevo  \n",
       "4      1       15  Sarajevo  "
      ]
     },
     "execution_count": 2,
     "metadata": {},
     "output_type": "execute_result"
    }
   ],
   "source": [
    "data = pd.read_excel(\"hotels.xlsx\")\n",
    "data.head()"
   ]
  },
  {
   "cell_type": "markdown",
   "id": "3e213864-d040-4693-a43e-b6b5b7577025",
   "metadata": {},
   "source": [
    "### Hotel Availibility\n",
    "\n",
    "We are generating some fake hotel availabilities. Not much thought has been given to the distribution of a hotels availibility, since we are only trying to demonstrate previously introduced method. A very simple model of the availibity distribution is that for a hotel $k$ and the sequence of days $t_0,..., t_{/text{days}}$ we assume the probability that hotel k is avaibible on day i P(A_k,i=1) follows a bernoulli distribution Ber(p_k) where the parameter p_k again is Ber distributed. We furthermore assume that P(A_k,i) independent P(A_k_j). \n",
    "\n",
    "In reality "
   ]
  },
  {
   "cell_type": "code",
   "execution_count": 31,
   "id": "170bacda-17a5-471c-9761-c748e5035af2",
   "metadata": {},
   "outputs": [
    {
     "data": {
      "text/plain": [
       "array([[False, False, False, ..., False, False, False],\n",
       "       [ True, False,  True, ...,  True, False,  True],\n",
       "       [False,  True,  True, ..., False, False, False],\n",
       "       ...,\n",
       "       [False, False, False, ..., False, False, False],\n",
       "       [ True,  True,  True, ...,  True,  True,  True],\n",
       "       [ True,  True,  True, ...,  True,  True, False]])"
      ]
     },
     "execution_count": 31,
     "metadata": {},
     "output_type": "execute_result"
    }
   ],
   "source": [
    "n_hotels = len(data)\n",
    "n_days = 30\n",
    "\n",
    "B = np.zeros((n_hotels, n_days), dtype=bool)\n",
    "\n",
    "# parameters \n",
    "not_booked = 0.0\n",
    "not_booked_idx = np.random.choice(np.arange(1,n_hotels+1), size=int(not_booked*n_hotels), replace=False)\n",
    "\n",
    "# fill booked matrix, False: not booked, True: Booked\n",
    "for i in range(n_hotels):\n",
    "    if i+1 not in not_booked_idx:\n",
    "        thresh = np.random.rand() \n",
    "        B[i] = np.random.rand(n_days) > thresh\n",
    "B"
   ]
  },
  {
   "cell_type": "code",
   "execution_count": 28,
   "id": "32b1c99f-2155-4591-a857-0d243b597557",
   "metadata": {},
   "outputs": [
    {
     "data": {
      "text/plain": [
       "<matplotlib.image.AxesImage at 0x7ffb3733f850>"
      ]
     },
     "execution_count": 30,
     "metadata": {},
     "output_type": "execute_result"
    },
    {
     "data": {
      "image/png": "[encoded data removed]",
      "text/plain": [
       "<Figure size 720x1440 with 1 Axes>"
      ]
     },
     "metadata": {
      "needs_background": "light"
     },
     "output_type": "display_data"
    }
   ],
   "source": [
    "plt.figure(figsize=(10,20))\n",
    "plt.imshow(B[:10,:])"
   ]
  },
  {
   "cell_type": "code",
   "execution_count": 1,
   "id": "9e265e62-0f83-45cd-8eba-0975537fa921",
   "metadata": {},
   "outputs": [
    {
     "ename": "NameError",
     "evalue": "name 'B' is not defined",
     "output_type": "error",
     "traceback": [
      "\u001b[0;31m---------------------------------------------------------------------------\u001b[0m",
      "\u001b[0;31mNameError\u001b[0m                                 Traceback (most recent call last)",
      "Input \u001b[0;32mIn [1]\u001b[0m, in \u001b[0;36m<cell line: 1>\u001b[0;34m()\u001b[0m\n\u001b[0;32m----> 1\u001b[0m \u001b[38;5;241m~\u001b[39m\u001b[43mB\u001b[49m\n",
      "\u001b[0;31mNameError\u001b[0m: name 'B' is not defined"
     ]
    }
   ],
   "source": [
    "~B"
   ]
  },
  {
   "cell_type": "code",
   "execution_count": 38,
   "id": "16a407a0-3279-4c7a-bccd-27b70557d7b5",
   "metadata": {},
   "outputs": [],
   "source": [
    "P = data[\"Price(BAM)\"].values"
   ]
  },
  {
   "cell_type": "code",
   "execution_count": 22,
   "id": "365947c9-e4d4-41d7-8937-dac2c36c9171",
   "metadata": {},
   "outputs": [
    {
     "data": {
      "text/plain": [
       "array([ 561,  765,  732,  501,  849,  204,  177,  117,  234,  441,  342,\n",
       "        399,  315,  636,  423,  888,  447,  399,  534,  285,  429,  192,\n",
       "        411,  480,  465,  147,  159,  441,  558, 1392,  840,  171,  336,\n",
       "        417,  339,  483,  369,  411])"
      ]
     },
     "execution_count": 22,
     "metadata": {},
     "output_type": "execute_result"
    }
   ],
   "source": [
    "P[candidates]*min_days"
   ]
  },
  {
   "cell_type": "code",
   "execution_count": 95,
   "id": "dcaf69fa-03c7-4c76-b333-e3e47e0dec7b",
   "metadata": {},
   "outputs": [
    {
     "name": "stdout",
     "output_type": "stream",
     "text": [
      "2\n"
     ]
    }
   ],
   "source": [
    "current_hotel = None\n",
    "if \"sad\":\n",
    "    print(2)"
   ]
  },
  {
   "cell_type": "code",
   "execution_count": 103,
   "id": "e6257c0c-db48-4595-beff-966b8cd06ab1",
   "metadata": {},
   "outputs": [
    {
     "ename": "NameError",
     "evalue": "name 'current_hoteL' is not defined",
     "output_type": "error",
     "traceback": [
      "\u001b[0;31m---------------------------------------------------------------------------\u001b[0m",
      "\u001b[0;31mNameError\u001b[0m                                 Traceback (most recent call last)",
      "Input \u001b[0;32mIn [103]\u001b[0m, in \u001b[0;36m<cell line: 1>\u001b[0;34m()\u001b[0m\n\u001b[0;32m----> 1\u001b[0m \u001b[43mcurrent_hoteL\u001b[49m\n",
      "\u001b[0;31mNameError\u001b[0m: name 'current_hoteL' is not defined"
     ]
    }
   ],
   "source": [
    "current_hoteL"
   ]
  },
  {
   "cell_type": "code",
   "execution_count": 102,
   "id": "3b79b2f1-9e01-4d98-838d-60c2f926651c",
   "metadata": {},
   "outputs": [
    {
     "data": {
      "text/plain": [
       "array([[False, False, False,  True,  True,  True,  True, False,  True,\n",
       "         True,  True,  True,  True, False, False,  True,  True, False,\n",
       "         True,  True]])"
      ]
     },
     "execution_count": 102,
     "metadata": {},
     "output_type": "execute_result"
    }
   ],
   "source": [
    "B[current_hotel,i]"
   ]
  },
  {
   "cell_type": "code",
   "execution_count": 106,
   "id": "2e0dab91-70cb-4b62-b696-292224238604",
   "metadata": {},
   "outputs": [
    {
     "data": {
      "text/plain": [
       "array([], dtype=int64)"
      ]
     },
     "execution_count": 106,
     "metadata": {},
     "output_type": "execute_result"
    }
   ],
   "source": [
    "candidates"
   ]
  },
  {
   "cell_type": "code",
   "execution_count": 108,
   "id": "d628a6c9-f4f5-4db1-a4ab-f8f7d23d8f1d",
   "metadata": {},
   "outputs": [
    {
     "data": {
      "text/plain": [
       "20"
      ]
     },
     "execution_count": 108,
     "metadata": {},
     "output_type": "execute_result"
    }
   ],
   "source": [
    "n_days"
   ]
  },
  {
   "cell_type": "code",
   "execution_count": 124,
   "id": "ef40b9af-163f-4fde-9d16-345ca383cb16",
   "metadata": {},
   "outputs": [
    {
     "data": {
      "text/plain": [
       "{'path': [88, 88, 88, 104, 104, 104, 12, 12, 12, 16, 16, 16, 109, 109, 109],\n",
       " 'cost': 1143}"
      ]
     },
     "execution_count": 124,
     "metadata": {},
     "output_type": "execute_result"
    }
   ],
   "source": [
    "paths.pop()"
   ]
  },
  {
   "cell_type": "code",
   "execution_count": 128,
   "id": "81b9edb9-f774-422a-ae0c-8af696b40b92",
   "metadata": {},
   "outputs": [
    {
     "data": {
      "text/plain": [
       "{'path': [17, 17, 17, 41, 41, 41, 12, 12, 12], 'cost': 726}"
      ]
     },
     "execution_count": 128,
     "metadata": {},
     "output_type": "execute_result"
    }
   ],
   "source": [
    "paths.sort(key=lambda x: x[\"cost\"], reverse=True)\n",
    "paths[-3]"
   ]
  },
  {
   "cell_type": "code",
   "execution_count": 173,
   "id": "3e5dcbe2-f0c6-479e-9aaa-12be12db86c1",
   "metadata": {},
   "outputs": [
    {
     "data": {
      "text/plain": [
       "26      468\n",
       "31      684\n",
       "32      798\n",
       "35      630\n",
       "36     1272\n",
       "41      846\n",
       "47     1776\n",
       "56     1068\n",
       "60      858\n",
       "73      384\n",
       "81      822\n",
       "88      294\n",
       "97     2784\n",
       "100    1680\n",
       "107     672\n",
       "109     834\n",
       "114     678\n",
       "118     738\n",
       "Name: Price(BAM), dtype: int64"
      ]
     },
     "execution_count": 173,
     "metadata": {},
     "output_type": "execute_result"
    }
   ],
   "source": [
    "data.loc[np.where(np.all(B[:,:6],axis=1))[0],:][\"Price(BAM)\"]*6"
   ]
  },
  {
   "cell_type": "code",
   "execution_count": 105,
   "id": "48ff3135-a74b-4677-ba5f-c57214282485",
   "metadata": {},
   "outputs": [
    {
     "data": {
      "text/plain": [
       "10"
      ]
     },
     "execution_count": 105,
     "metadata": {},
     "output_type": "execute_result"
    }
   ],
   "source": [
    "n_days"
   ]
  },
  {
   "cell_type": "code",
   "execution_count": 103,
   "id": "dd036813-c5a1-4fc4-a626-0e7bc7a81b32",
   "metadata": {},
   "outputs": [
    {
     "ename": "IndexError",
     "evalue": "index 10 is out of bounds for axis 1 with size 10",
     "output_type": "error",
     "traceback": [
      "\u001b[0;31m---------------------------------------------------------------------------\u001b[0m",
      "\u001b[0;31mIndexError\u001b[0m                                Traceback (most recent call last)",
      "Input \u001b[0;32mIn [103]\u001b[0m, in \u001b[0;36m<cell line: 17>\u001b[0;34m()\u001b[0m\n\u001b[1;32m     22\u001b[0m cost_added \u001b[38;5;241m=\u001b[39m P[candidates] \u001b[38;5;241m*\u001b[39m \u001b[38;5;241m3\u001b[39m\n\u001b[1;32m     23\u001b[0m new_paths \u001b[38;5;241m=\u001b[39m [{\u001b[38;5;124m\"\u001b[39m\u001b[38;5;124mpath\u001b[39m\u001b[38;5;124m\"\u001b[39m:[\u001b[38;5;241m*\u001b[39mcurrent_trip,\u001b[38;5;241m*\u001b[39m[candidates[i]]\u001b[38;5;241m*\u001b[39mmin_days], \u001b[38;5;124m\"\u001b[39m\u001b[38;5;124mcost\u001b[39m\u001b[38;5;124m\"\u001b[39m:current_cost\u001b[38;5;241m+\u001b[39mcost_added[i]} \u001b[38;5;28;01mfor\u001b[39;00m i \u001b[38;5;129;01min\u001b[39;00m \u001b[38;5;28mrange\u001b[39m(\u001b[38;5;28mlen\u001b[39m(candidates))]\n\u001b[0;32m---> 24\u001b[0m \u001b[38;5;28;01mif\u001b[39;00m current_hotel \u001b[38;5;129;01mand\u001b[39;00m \u001b[43mB\u001b[49m\u001b[43m[\u001b[49m\u001b[43mcurrent_hotel\u001b[49m\u001b[43m,\u001b[49m\u001b[43mi\u001b[49m\u001b[43m]\u001b[49m \u001b[38;5;129;01mand\u001b[39;00m current_length_hotel \u001b[38;5;241m<\u001b[39m max_days:\n\u001b[1;32m     25\u001b[0m     new_paths\u001b[38;5;241m.\u001b[39mappend({\u001b[38;5;124m\"\u001b[39m\u001b[38;5;124mpath\u001b[39m\u001b[38;5;124m\"\u001b[39m: [\u001b[38;5;241m*\u001b[39mcurrent_trip,current_hotel], \u001b[38;5;124m\"\u001b[39m\u001b[38;5;124mcost\u001b[39m\u001b[38;5;124m\"\u001b[39m: current_cost\u001b[38;5;241m+\u001b[39mP[current_hotel]})\n\u001b[1;32m     26\u001b[0m paths\u001b[38;5;241m.\u001b[39mextend(new_paths)\n",
      "\u001b[0;31mIndexError\u001b[0m: index 10 is out of bounds for axis 1 with size 10"
     ]
    }
   ],
   "source": [
    "# branch and bound\n",
    "#min_days = 3\n",
    "#max_days = 5\n",
    "#min_periods = 3\n",
    "#max_periods = 5\n",
    "#n_days = 12\n",
    "\n",
    "i = 0\n",
    "current_hotel = None\n",
    "current_trip = []\n",
    "current_cost = 0\n",
    "current_length_hotel = 1\n",
    "paths = []\n",
    "d = 0\n",
    "while True:    \n",
    "    #evaluates which hotels are available for next min_days\n",
    "    if i < n_days:\n",
    "        candidates = np.all(B[:,i:i+min_days],axis=1)\n",
    "        candidates = np.where(np.all(B[:,i:i+min_days],axis=1))[0]\n",
    "    # not multiple disconnected stays at a hotela\n",
    "    candidates = candidates[~np.isin(candidates, current_trip)]\n",
    "    cost_added = P[candidates] * 3\n",
    "    new_paths = [{\"path\":[*current_trip,*[candidates[i]]*min_days], \"cost\":current_cost+cost_added[i]} for i in range(len(candidates))]\n",
    "    if current_hotel and B[current_hotel,i] and current_length_hotel < max_days:\n",
    "        new_paths.append({\"path\": [*current_trip,current_hotel], \"cost\": current_cost+P[current_hotel]})\n",
    "    paths.extend(new_paths)\n",
    "    paths.sort(key=lambda x: x[\"cost\"], reverse=True)\n",
    "    valid = False\n",
    "    while not valid:\n",
    "        current_path = paths.pop()\n",
    "        current_trip = current_path[\"path\"]\n",
    "        current_hotel = current_trip[-1]\n",
    "        current_hotel_length = current_trip.count(current_hotel)\n",
    "        current_cost = current_path[\"cost\"]\n",
    "        current_stops = len(set(current_trip))\n",
    "        if len(current_trip) <= n_days and  current_stops <= max_periods:\n",
    "            i = len(current_trip) + 1\n",
    "            valid = True\n",
    "            d += 1\n",
    "        #current_path\n",
    "    if not paths or (len(current_trip) == n_days and current_stops >= min_periods):\n",
    "        print(current_path)\n",
    "        break\n",
    "\n",
    "current_path"
   ]
  },
  {
   "cell_type": "code",
   "execution_count": 182,
   "id": "4bd1360d-611e-4fd4-8aa1-cf031204e83e",
   "metadata": {},
   "outputs": [
    {
     "data": {
      "text/plain": [
       "<matplotlib.image.AxesImage at 0x7f0bc6f56cd0>"
      ]
     },
     "execution_count": 182,
     "metadata": {},
     "output_type": "execute_result"
    },
    {
     "data": {
      "image/png": "[encoded data removed]",
      "text/plain": [
       "<Figure size 432x288 with 1 Axes>"
      ]
     },
     "metadata": {
      "needs_background": "light"
     },
     "output_type": "display_data"
    }
   ],
   "source": [
    "plt.imshow(B[:10,:])"
   ]
  },
  {
   "cell_type": "code",
   "execution_count": 188,
   "id": "7558a95d-e5dd-4817-a7e0-6f65009ab98b",
   "metadata": {},
   "outputs": [],
   "source": [
    "# pairs hotel_1,start_1,end1,hotel2_start2,end2\n",
    "from scipy.signal import convolve2d\n",
    "\n",
    "data = pd.read_excel(\"hotels.xlsx\")\n",
    "# booked \n",
    "\n",
    "min_days = 5\n",
    "max_days = 10\n",
    "min_periods = 3\n",
    "max_periods = 6\n",
    "n_hotels = len(data)\n",
    "n_days = 30\n",
    "\n",
    "B = np.zeros((n_hotels, n_days), dtype=bool)\n",
    "\n",
    "# parameters \n",
    "not_booked = 0.0\n",
    "not_booked_idx = np.random.choice(np.arange(1,n_hotels+1), size=int(not_booked*n_hotels), replace=False)\n",
    "\n",
    "# fill booked matrix, False: not booked, True: Booked\n",
    "for i in range(n_hotels):\n",
    "    if i+1 not in not_booked_idx:\n",
    "        thresh = np.random.rand()*0.75\n",
    "        B[i] = np.random.rand(n_days) > thresh\n",
    "\n",
    "trips = []\n",
    "\n",
    "for k in np.arange(min_days, max_days+1):\n",
    "    out = convolve2d(~B,np.ones(k).reshape(1,k), mode=\"valid\") == k\n",
    "    trips_sub = pd.DataFrame(np.argwhere(out), columns=[\"hotel\",\"start\"])\n",
    "    trips_sub[\"end\"] = trips_sub[\"start\"] + k\n",
    "    trips.append(trips_sub)\n",
    "trips = pd.concat(trips)\n",
    "trips = trips[(trips[\"start\"] == 0)+(trips[\"start\"] >= min_days)]\n",
    "trips = trips[trips[\"start\"] <= n_days-min_days]\n",
    "\n",
    "def stay_as_string(row):\n",
    "    return \",\".join([str(row[\"hotel\"]),str(row[\"start\"]),str(row[\"end\"])])\n",
    "\n",
    "def cost_for_stay(row,P):\n",
    "    hotel = row[\"hotel\"]\n",
    "    cost = P[hotel]\n",
    "    nights = row[\"end\"] - row[\"start\"]\n",
    "    return cost*nights\n",
    "\n",
    "\n",
    "trips[\"node\"] = trips.apply(stay_as_string, axis=1)\n",
    "trips[\"cost\"] = trips.apply(lambda x: cost_for_stay(x,P), axis=1)\n",
    "trips = trips.set_index(\"node\")\n",
    "trips\n",
    "\n",
    "\n",
    "x = trips.index.to_list()\n",
    "p = trips[\"cost\"].to_dict()"
   ]
  },
  {
   "cell_type": "code",
   "execution_count": 189,
   "id": "b9b34f42-5fd8-4b1f-83e7-8d3a3c1cda81",
   "metadata": {},
   "outputs": [
    {
     "name": "stdout",
     "output_type": "stream",
     "text": [
      "Welcome to the CBC MILP Solver \n",
      "Version: 2.10.5 \n",
      "Build Date: Oct 15 2020 \n",
      "\n",
      "command line - cbc /tmp/1e356fede7f644409715e93dccfbf2b5-pulp.mps timeMode elapsed branch printingOptions all solution /tmp/1e356fede7f644409715e93dccfbf2b5-pulp.sol (default strategy 1)\n",
      "At line 2 NAME          MODEL\n",
      "At line 3 ROWS\n",
      "At line 76 COLUMNS\n",
      "At line 3038 RHS\n",
      "At line 3110 BOUNDS\n",
      "At line 3486 ENDATA\n",
      "Problem MODEL has 71 rows, 375 columns and 1836 elements\n",
      "Coin0008I MODEL read with 0 errors\n",
      "Option for timeMode changed from cpu to elapsed\n",
      "Continuous objective value is 2179 - 0.00 seconds\n",
      "Cgl0002I 128 variables fixed\n",
      "Cgl0003I 0 fixed, 0 tightened bounds, 5 strengthened rows, 0 substitutions\n",
      "Cgl0003I 0 fixed, 0 tightened bounds, 5 strengthened rows, 0 substitutions\n",
      "Cgl0003I 0 fixed, 0 tightened bounds, 4 strengthened rows, 0 substitutions\n",
      "Cgl0003I 0 fixed, 0 tightened bounds, 4 strengthened rows, 0 substitutions\n",
      "Cgl0003I 0 fixed, 0 tightened bounds, 4 strengthened rows, 0 substitutions\n",
      "Cgl0003I 0 fixed, 0 tightened bounds, 3 strengthened rows, 0 substitutions\n",
      "Cgl0003I 0 fixed, 0 tightened bounds, 2 strengthened rows, 0 substitutions\n",
      "Cgl0003I 0 fixed, 0 tightened bounds, 2 strengthened rows, 0 substitutions\n",
      "Cgl0003I 0 fixed, 0 tightened bounds, 2 strengthened rows, 0 substitutions\n",
      "Cgl0004I processed model has 44 rows, 235 columns (235 integer (235 of which binary)) and 906 elements\n",
      "Cutoff increment increased from 1e-05 to 0.9999\n",
      "Cbc0038I Initial state - 0 integers unsatisfied sum - 0\n",
      "Cbc0038I Solution found of 2179\n",
      "Cbc0038I Before mini branch and bound, 235 integers at bound fixed and 0 continuous\n",
      "Cbc0038I Mini branch and bound did not improve solution (0.01 seconds)\n",
      "Cbc0038I After 0.01 seconds - Feasibility pump exiting with objective of 2179 - took 0.00 seconds\n",
      "Cbc0012I Integer solution of 2179 found by feasibility pump after 0 iterations and 0 nodes (0.01 seconds)\n",
      "Cbc0001I Search completed - best objective 2179, took 0 iterations and 0 nodes (0.01 seconds)\n",
      "Cbc0035I Maximum depth 0, 0 variables fixed on reduced cost\n",
      "Cuts at root node changed objective from 2179 to 2179\n",
      "Probing was tried 0 times and created 0 cuts of which 0 were active after adding rounds of cuts (0.000 seconds)\n",
      "Gomory was tried 0 times and created 0 cuts of which 0 were active after adding rounds of cuts (0.000 seconds)\n",
      "Knapsack was tried 0 times and created 0 cuts of which 0 were active after adding rounds of cuts (0.000 seconds)\n",
      "Clique was tried 0 times and created 0 cuts of which 0 were active after adding rounds of cuts (0.000 seconds)\n",
      "MixedIntegerRounding2 was tried 0 times and created 0 cuts of which 0 were active after adding rounds of cuts (0.000 seconds)\n",
      "FlowCover was tried 0 times and created 0 cuts of which 0 were active after adding rounds of cuts (0.000 seconds)\n",
      "TwoMirCuts was tried 0 times and created 0 cuts of which 0 were active after adding rounds of cuts (0.000 seconds)\n",
      "ZeroHalf was tried 0 times and created 0 cuts of which 0 were active after adding rounds of cuts (0.000 seconds)\n",
      "\n",
      "Result - Optimal solution found\n",
      "\n",
      "Objective value:                2179.00000000\n",
      "Enumerated nodes:               0\n",
      "Total iterations:               0\n",
      "Time (CPU seconds):             0.02\n",
      "Time (Wallclock seconds):       0.04\n",
      "\n",
      "Option for printingOptions changed from normal to all\n",
      "Total time (CPU seconds):       0.02   (Wallclock seconds):       0.04\n",
      "\n",
      "hotels_12,19,24 = 1.0\n",
      "hotels_60,25,30 = 1.0\n",
      "hotels_68,7,12 = 1.0\n",
      "hotels_74,13,18 = 1.0\n",
      "hotels_88,0,6 = 1.0\n"
     ]
    }
   ],
   "source": [
    "x_lp = LpVariable.dicts(\"hotels\", x, cat=\"Binary\")\n",
    "prob = LpProblem(\"mix_and_save\", LpMinimize)\n",
    "# objective\n",
    "prob += lpSum([p[i]*x_lp[i] for i in x])\n",
    "\n",
    "# start_day constraint\n",
    "prob += lpSum([x_lp[j] for j in trips[trips[\"start\"] == 0].index]) == 1\n",
    "\n",
    "# end_day constraint \n",
    "prob += lpSum([x_lp[j] for j in trips[trips[\"end\"] == n_days].index]) == 1\n",
    "\n",
    "# hotel only once\n",
    "for i in np.unique(trips[\"hotel\"].values):\n",
    "    prob += lpSum([x_lp[j] for j in trips[trips[\"hotel\"] == i].index]) <= 1\n",
    "\n",
    "# flow constraint\n",
    "for i in np.unique(trips[\"end\"].values):\n",
    "    if i not in [0, n_days]:\n",
    "        inn = [x_lp[j] for j in trips[trips[\"end\"] == i].index]\n",
    "        outn = [x_lp[j] for j in trips[trips[\"start\"] == i+1].index]\n",
    "        prob += lpSum([inn]) == lpSum(outn)\n",
    "            \n",
    "# periods constraint\n",
    "prob += lpSum([x_lp[i] for i in x]) <= max_periods\n",
    "prob += lpSum([x_lp[i] for i in x]) >= min_periods\n",
    "        \n",
    "prob.solve()\n",
    "for v in prob.variables():\n",
    "    if v.varValue>0:\n",
    "        print(v.name, \"=\", v.varValue)"
   ]
  },
  {
   "cell_type": "code",
   "execution_count": 325,
   "id": "b04a5ffa-8b84-4b49-8c4e-06d0640d7aea",
   "metadata": {},
   "outputs": [
    {
     "data": {
      "text/html": [
       "<div>\n",
       "<style scoped>\n",
       "    .dataframe tbody tr th:only-of-type {\n",
       "        vertical-align: middle;\n",
       "    }\n",
       "\n",
       "    .dataframe tbody tr th {\n",
       "        vertical-align: top;\n",
       "    }\n",
       "\n",
       "    .dataframe thead th {\n",
       "        text-align: right;\n",
       "    }\n",
       "</style>\n",
       "<table border=\"1\" class=\"dataframe\">\n",
       "  <thead>\n",
       "    <tr style=\"text-align: right;\">\n",
       "      <th></th>\n",
       "      <th>index_2</th>\n",
       "      <th>end_2_2</th>\n",
       "      <th>hotel_2_2</th>\n",
       "      <th>start_2_2</th>\n",
       "      <th>hotel_1_2</th>\n",
       "      <th>start_1_2</th>\n",
       "      <th>end_1_2</th>\n",
       "    </tr>\n",
       "  </thead>\n",
       "  <tbody>\n",
       "    <tr>\n",
       "      <th>0</th>\n",
       "      <td>0</td>\n",
       "      <td>8</td>\n",
       "      <td>14</td>\n",
       "      <td>5</td>\n",
       "      <td>114</td>\n",
       "      <td>0</td>\n",
       "      <td>7</td>\n",
       "    </tr>\n",
       "    <tr>\n",
       "      <th>1</th>\n",
       "      <td>1</td>\n",
       "      <td>8</td>\n",
       "      <td>16</td>\n",
       "      <td>5</td>\n",
       "      <td>114</td>\n",
       "      <td>0</td>\n",
       "      <td>7</td>\n",
       "    </tr>\n",
       "    <tr>\n",
       "      <th>2</th>\n",
       "      <td>2</td>\n",
       "      <td>8</td>\n",
       "      <td>22</td>\n",
       "      <td>5</td>\n",
       "      <td>114</td>\n",
       "      <td>0</td>\n",
       "      <td>7</td>\n",
       "    </tr>\n",
       "    <tr>\n",
       "      <th>3</th>\n",
       "      <td>3</td>\n",
       "      <td>8</td>\n",
       "      <td>25</td>\n",
       "      <td>5</td>\n",
       "      <td>114</td>\n",
       "      <td>0</td>\n",
       "      <td>7</td>\n",
       "    </tr>\n",
       "    <tr>\n",
       "      <th>4</th>\n",
       "      <td>4</td>\n",
       "      <td>8</td>\n",
       "      <td>26</td>\n",
       "      <td>5</td>\n",
       "      <td>114</td>\n",
       "      <td>0</td>\n",
       "      <td>7</td>\n",
       "    </tr>\n",
       "    <tr>\n",
       "      <th>...</th>\n",
       "      <td>...</td>\n",
       "      <td>...</td>\n",
       "      <td>...</td>\n",
       "      <td>...</td>\n",
       "      <td>...</td>\n",
       "      <td>...</td>\n",
       "      <td>...</td>\n",
       "    </tr>\n",
       "    <tr>\n",
       "      <th>145</th>\n",
       "      <td>145</td>\n",
       "      <td>8</td>\n",
       "      <td>81</td>\n",
       "      <td>0</td>\n",
       "      <td>114</td>\n",
       "      <td>0</td>\n",
       "      <td>7</td>\n",
       "    </tr>\n",
       "    <tr>\n",
       "      <th>146</th>\n",
       "      <td>146</td>\n",
       "      <td>8</td>\n",
       "      <td>97</td>\n",
       "      <td>0</td>\n",
       "      <td>114</td>\n",
       "      <td>0</td>\n",
       "      <td>7</td>\n",
       "    </tr>\n",
       "    <tr>\n",
       "      <th>147</th>\n",
       "      <td>147</td>\n",
       "      <td>8</td>\n",
       "      <td>100</td>\n",
       "      <td>0</td>\n",
       "      <td>114</td>\n",
       "      <td>0</td>\n",
       "      <td>7</td>\n",
       "    </tr>\n",
       "    <tr>\n",
       "      <th>148</th>\n",
       "      <td>148</td>\n",
       "      <td>8</td>\n",
       "      <td>107</td>\n",
       "      <td>0</td>\n",
       "      <td>114</td>\n",
       "      <td>0</td>\n",
       "      <td>7</td>\n",
       "    </tr>\n",
       "    <tr>\n",
       "      <th>149</th>\n",
       "      <td>149</td>\n",
       "      <td>8</td>\n",
       "      <td>109</td>\n",
       "      <td>0</td>\n",
       "      <td>114</td>\n",
       "      <td>0</td>\n",
       "      <td>7</td>\n",
       "    </tr>\n",
       "  </tbody>\n",
       "</table>\n",
       "<p>150 rows × 7 columns</p>\n",
       "</div>"
      ],
      "text/plain": [
       "     index_2  end_2_2  hotel_2_2  start_2_2  hotel_1_2  start_1_2  end_1_2\n",
       "0          0        8         14          5        114          0        7\n",
       "1          1        8         16          5        114          0        7\n",
       "2          2        8         22          5        114          0        7\n",
       "3          3        8         25          5        114          0        7\n",
       "4          4        8         26          5        114          0        7\n",
       "..       ...      ...        ...        ...        ...        ...      ...\n",
       "145      145        8         81          0        114          0        7\n",
       "146      146        8         97          0        114          0        7\n",
       "147      147        8        100          0        114          0        7\n",
       "148      148        8        107          0        114          0        7\n",
       "149      149        8        109          0        114          0        7\n",
       "\n",
       "[150 rows x 7 columns]"
      ]
     },
     "execution_count": 325,
     "metadata": {},
     "output_type": "execute_result"
    }
   ],
   "source": [
    "connecting.reset_index().add_suffix(\"_2\")"
   ]
  },
  {
   "cell_type": "code",
   "execution_count": 309,
   "id": "4f594e12-bc74-4783-be9f-f071ebd20d4e",
   "metadata": {},
   "outputs": [],
   "source": [
    "x = []\n",
    "p = []\n",
    "# P vector with daily prices\n",
    "def stay_as_string(row,end):\n",
    "    return \",\".join([str(row[\"hotel\"]),str(row[\"start\"]),str(end)])\n",
    "\n",
    "def cost_for_stay(row,end,P):\n",
    "    hotel = row[\"hotel\"]\n",
    "    cost = P[hotel]\n",
    "    nights = end - row[\"start\"]\n",
    "    return cost*nights\n",
    "\n",
    "def cost_for_stay2(data):\n",
    "    hotel1 = data[\"hotel_1\"]\n",
    "    cost1 = P[hotel1]\n",
    "    nights1 = data[\"end_1\"] - data[\"start_1\"]\n",
    "    total1 = cost1 * nights1\n",
    "    hotel2 = data[\"hotel_2\"]\n",
    "    cost2 = P[hotel1]\n",
    "    nights2 = data[\"end_2\"] - data[\"start_2\"]\n",
    "    total2 = cost2 * nights2\n",
    "    return total1 + total2\n",
    "    \n",
    "for end, row in trips.iterrows():\n",
    "    next_start = end + 1\n",
    "    hotel1 = stay_as_string(row,end)\n",
    "    if next_start < (n_days - min_days): \n",
    "        connecting = trips.loc[next_start]\n",
    "        connecting = connecting[connecting[\"hotel\"] != row[\"hotel\"]]\n",
    "        for end2, row2 in connecting.iterrows():\n",
    "            hotel2 = stay_as_string(row2,end2)\n",
    "            x.append(\",\".join([hotel1,hotel2]))\n",
    "            cost = cost_for_stay(row,end,P) + cost_for_stay(row2,end2,P)\n",
    "            p.append(cost)\n",
    "\n",
    "p = dict(zip(x,p))\n",
    "\n",
    "x_df = []\n",
    "for end, row in trips.iterrows():\n",
    "    next_start = end + 1\n",
    "    hotel1 = stay_as_string(row,end)\n",
    "    if next_start < (n_days - min_days): \n",
    "        connecting = trips.loc[next_start]\n",
    "        connecting = connecting[connecting[\"hotel\"] != row[\"hotel\"]]\n",
    "        connecting = connecting.reset_index().add_suffix(\"_2\")\n",
    "        connecting[\"hotel_1\"] = row[\"hotel\"]\n",
    "        connecting[\"start_1\"] = row[\"start\"]\n",
    "        connecting[\"end_1\"] = end\n",
    "        x_df.append(connecting)   \n",
    "   # for id2, rows in connecting\n",
    "x_df = pd.concat(x_df)\n",
    "\n",
    "p_df = []\n",
    "x = []\n",
    "for row in x_df.to_dict(orient=\"records\"):\n",
    "    x.append(f'{row[\"hotel_1\"]},{row[\"start_1\"]},{row[\"end_1\"]},{row[\"hotel_2\"]},{row[\"start_2\"]},{row[\"end_2\"]}')\n",
    "    p_df.append(cost_for_stay2(row))\n",
    "\n",
    "x_df[\"price\"] = p_df\n",
    "x_df[\"code\"] = x\n",
    "\n",
    "p = dict(zip(x,p_df))\n",
    "\n"
   ]
  },
  {
   "cell_type": "code",
   "execution_count": 320,
   "id": "a4923cda-2f1c-46ec-9f7a-8606599a0fb4",
   "metadata": {},
   "outputs": [],
   "source": [
    "# index on start not end"
   ]
  },
  {
   "cell_type": "code",
   "execution_count": 319,
   "id": "e3be2fb0-b519-404c-af12-04676b759a5c",
   "metadata": {},
   "outputs": [
    {
     "data": {
      "text/plain": [
       "8"
      ]
     },
     "execution_count": 319,
     "metadata": {},
     "output_type": "execute_result"
    }
   ],
   "source": [
    "x_df[\"end_2\"].max()"
   ]
  },
  {
   "cell_type": "code",
   "execution_count": null,
   "id": "b60e4847-3010-47d7-a300-6c08104af100",
   "metadata": {},
   "outputs": [],
   "source": [
    "x_lp = LpVariable.dicts(\"hotels\", x, cat=\"Binary\")\n",
    "prob = LpProblem(\"mix_and_save\", LpMinimize)\n",
    "# objective\n",
    "prob += lpSum([p[i]*x_lp[i] for i in x])\n",
    "\n",
    "# start_day constraint\n",
    "prob += lpSum([x_lp[j] for j in x_df[x_df[\"start_1\"] == 0][\"code\"].to_list()]) == 1\n",
    "\n",
    "# end_day constraint \n",
    "prob += lpSum([x_lp[j] for j in x_df[x_df[\"end_2\"] == 0][\"code\"].to_list()]) == 1\n",
    "\n",
    "# max days \n",
    "for i in range(1,n_hotels+1):\n",
    "#    prob += lpSum([x_lp[j] for j in x if int(j.split(\",\")[0]) == i]) <= max_days\n",
    "    max_cons = [x_lp[j] for j in x if int(j.split(\",\")[0]) == i]\n",
    "    max_cons.append(-max_days*x_lp[x[i-1]])\n",
    "    prob += lpSum(max_cons) <= 0\n",
    "    \n",
    "    min_cons = [x_lp[j] for j in x if int(j.split(\",\")[0]) == i]\n",
    "    min_cons.append(-min_days*x_lp[x[i-1]])\n",
    "    prob += lpSum(min_cons) >= 0\n",
    "    \n",
    "# trip chinks\n",
    "n_periods_min = 3\n",
    "n_periods_max = 4\n",
    "\n",
    "prob += lpSum([x_lp[x[i]] for i in range(n_hotels)]) <= n_periods_max\n",
    "prob += lpSum([x_lp[x[i]] for i in range(n_hotels)]) >= n_periods_min\n",
    "    \n",
    "    #    prob += lpSum([x_lp[j] for j in x if int(j.split(\",\")[0]) == i]) <= max_days\n",
    "\n",
    "# min days\n",
    "#for i in range(1,n_hotels+1):\n",
    "    \n",
    "    #min_con = [x_lp[j] for j in x if int(j.split(\",\")[0]) == i]\n",
    "    #min_con.append(x_lp[x[i-1]]*min_days)\n",
    "    #prob += lpSum(min_con) >= min_days\n",
    "#    min_con = [(1-x_lp[x[i-1]])*min_days]\n",
    "#    min_con.extend(x_lp[j] for j in x if int(j.split(\",\")[0]) == i)\n",
    "#    prob += lpSum(min_con) >= min_days \n",
    "\n",
    "# min and max number of periods\n",
    "\n",
    "    \n",
    "prob.solve()\n",
    "for v in prob.variables():\n",
    "    if v.varValue>0:\n",
    "        print(v.name, \"=\", v.varValue)"
   ]
  },
  {
   "cell_type": "raw",
   "id": "0308d1eb-7cb5-40b7-9c2b-27eba4ceaeb3",
   "metadata": {},
   "source": [
    "## Implmentation\n",
    "\n",
    "The following steps will be taken in order to implement the optimization problem and solve it on some data reflecting a real world booking scenario.\n",
    "\n",
    "1. Load hotel pricing data\n",
    "2. Generate hotel bookings\n",
    "3. Finding a baseline cost\n",
    "4. Optimization problem modelling pulp\n",
    "5. Solve the optimization problem for the given data\n",
    "6. Extend the optimization problem to generate a diverse set of hotel combinations\n",
    "\n",
    "\n",
    "https://coin-or.github.io/pulp/\n",
    "\n",
    "https://github.com/coin-or/Cbc"
   ]
  },
  {
   "cell_type": "code",
   "execution_count": 1,
   "id": "7808a720-43f0-4b63-96cf-2a3c55e364b5",
   "metadata": {},
   "outputs": [],
   "source": [
    "def get_optimum(prob, p):\n",
    "    chosen = {}\n",
    "    total = 0\n",
    "    for v in prob.variables():\n",
    "        if v.varValue>0:\n",
    "            print(v.name, \"=\", v.varValue)\n",
    "            name = v.name.split(\"_\",1)[-1]\n",
    "            #price = p[name]\n",
    "            #chosen[name] = price\n",
    "            #print(price, \" BAM\")\n",
    "            #total += price\n",
    "    print(\"total = \", total)\n",
    "    return chosen\n"
   ]
  },
  {
   "cell_type": "code",
   "execution_count": 97,
   "id": "86a927ec-ae8f-43c5-9433-675901d8e705",
   "metadata": {},
   "outputs": [],
   "source": [
    "data\n",
    "# booked \n",
    "n_hotels = len(data)\n",
    "n_days = 10\n",
    "\n",
    "B = np.zeros((n_hotels, n_days), dtype=bool)\n",
    "\n",
    "# parameters \n",
    "\n",
    "not_booked = 0.0\n",
    "\n",
    "not_booked_idx = np.random.choice(np.arange(1,n_hotels+1), size=int(not_booked*n_hotels), replace=False)\n",
    "\n",
    "# fill booked matrix, False: not booked, True: Booked\n",
    "for i in range(n_hotels):\n",
    "    if i+1 not in not_booked_idx:\n",
    "        thresh = np.random.rand()*0.2\n",
    "        B[i] = np.random.rand(n_days) > thresh"
   ]
  },
  {
   "cell_type": "code",
   "execution_count": 13,
   "id": "333cef92-33af-4c10-a5ed-3999b336609d",
   "metadata": {},
   "outputs": [
    {
     "name": "stdout",
     "output_type": "stream",
     "text": [
      "2520\n"
     ]
    }
   ],
   "source": [
    "# size of decision vector\n",
    "n_x = n_hotels + (n_hotels*n_days)\n",
    "print(n_x)\n",
    "\n",
    "# booking constraint\n",
    "b_vec = np.zeros(n_x)\n",
    "b_vec[n_hotels:] = B.flatten()\n",
    "\n",
    "\n",
    "# price\n",
    "p_vec = np.zeros(n_x)\n",
    "p_vec[n_hotels:] = np.repeat(data[\"Price(BAM)\"],n_days)\n",
    "\n",
    "x = [\"0,\"+str(i*-1) for i in range(1,n_hotels+1)]\n",
    "\n",
    "for i in range(1,n_hotels+1):\n",
    "    x.extend([str(i)+\",\"+str(j) for j in range(n_days)])\n",
    "\n",
    "p = dict(zip(x,p_vec))\n",
    "b = dict(zip(x,b_vec))\n"
   ]
  },
  {
   "cell_type": "code",
   "execution_count": 8,
   "id": "35c176dc-6225-4d21-82ba-f39c7e03bd24",
   "metadata": {},
   "outputs": [
    {
     "name": "stdout",
     "output_type": "stream",
     "text": [
      "Welcome to the CBC MILP Solver \n",
      "Version: 2.10.5 \n",
      "Build Date: Oct 15 2020 \n",
      "\n",
      "command line - cbc /tmp/fe25933e597b4847a633939c1da160eb-pulp.mps timeMode elapsed branch printingOptions all solution /tmp/fe25933e597b4847a633939c1da160eb-pulp.sol (default strategy 1)\n",
      "At line 2 NAME          MODEL\n",
      "At line 3 ROWS\n",
      "At line 268 COLUMNS\n",
      "At line 16920 RHS\n",
      "At line 17184 BOUNDS\n",
      "At line 19705 ENDATA\n",
      "Problem MODEL has 263 rows, 2520 columns and 9211 elements\n",
      "Coin0008I MODEL read with 0 errors\n",
      "Option for timeMode changed from cpu to elapsed\n",
      "Continuous objective value is 967 - 0.00 seconds\n",
      "Cgl0002I 1531 variables fixed\n",
      "Cgl0003I 0 fixed, 0 tightened bounds, 0 strengthened rows, 198 substitutions\n",
      "Cgl0004I processed model has 181 rows, 874 columns (874 integer (874 of which binary)) and 2640 elements\n",
      "Cutoff increment increased from 1e-05 to 0.9999\n",
      "Cbc0038I Initial state - 1 integers unsatisfied sum - 0.125\n",
      "Cbc0038I Pass   1: suminf.    0.12500 (1) obj. 967 iterations 73\n",
      "Cbc0038I Pass   2: suminf.    0.25000 (1) obj. 967 iterations 2\n",
      "Cbc0038I Pass   3: suminf.    3.00000 (12) obj. 2249 iterations 76\n",
      "Cbc0038I Pass   4: suminf.    2.02500 (12) obj. 2249 iterations 55\n",
      "Cbc0038I Pass   5: suminf.    3.00000 (12) obj. 2249 iterations 23\n",
      "Cbc0038I Pass   6: suminf.    3.50000 (14) obj. 2100 iterations 98\n",
      "Cbc0038I Pass   7: suminf.    2.50000 (14) obj. 2100 iterations 51\n",
      "Cbc0038I Pass   8: suminf.    4.00000 (14) obj. 2100 iterations 41\n",
      "Cbc0038I Pass   9: suminf.    3.00000 (14) obj. 2100 iterations 34\n",
      "Cbc0038I Pass  10: suminf.    3.50000 (14) obj. 2100 iterations 35\n",
      "Cbc0038I Pass  11: suminf.    2.50000 (13) obj. 2016 iterations 106\n",
      "Cbc0038I Pass  12: suminf.    2.16071 (13) obj. 2016 iterations 36\n",
      "Cbc0038I Pass  13: suminf.    3.87500 (13) obj. 2016 iterations 18\n",
      "Cbc0038I Pass  14: suminf.    3.00000 (13) obj. 2016 iterations 38\n",
      "Cbc0038I Pass  15: suminf.    2.50000 (13) obj. 2016 iterations 40\n",
      "Cbc0038I Pass  16: suminf.    3.50000 (14) obj. 2588 iterations 87\n",
      "Cbc0038I Pass  17: suminf.    2.50000 (14) obj. 2588 iterations 67\n",
      "Cbc0038I Pass  18: suminf.    4.00000 (14) obj. 2588 iterations 38\n",
      "Cbc0038I Pass  19: suminf.    2.93571 (14) obj. 2588 iterations 33\n",
      "Cbc0038I Pass  20: suminf.    2.50000 (14) obj. 2588 iterations 5\n",
      "Cbc0038I Pass  21: suminf.    3.50000 (14) obj. 2588 iterations 29\n",
      "Cbc0038I Pass  22: suminf.    2.50000 (14) obj. 2588 iterations 28\n",
      "Cbc0038I Pass  23: suminf.    4.00000 (14) obj. 2588 iterations 21\n",
      "Cbc0038I Pass  24: suminf.    2.93571 (14) obj. 2588 iterations 33\n",
      "Cbc0038I Pass  25: suminf.    2.50000 (14) obj. 2588 iterations 5\n",
      "Cbc0038I Pass  26: suminf.    3.50000 (14) obj. 2588 iterations 33\n",
      "Cbc0038I Pass  27: suminf.    2.50000 (14) obj. 2588 iterations 28\n",
      "Cbc0038I Pass  28: suminf.    4.00000 (14) obj. 2588 iterations 28\n",
      "Cbc0038I Pass  29: suminf.    2.93571 (14) obj. 2588 iterations 26\n",
      "Cbc0038I Pass  30: suminf.    2.50000 (14) obj. 2588 iterations 5\n",
      "Cbc0038I No solution found this major pass\n",
      "Cbc0038I Before mini branch and bound, 776 integers at bound fixed and 0 continuous\n",
      "Cbc0038I Mini branch and bound did not improve solution (0.09 seconds)\n",
      "Cbc0038I Full problem 182 rows 874 columns, reduced to 182 rows 874 columns - too large\n",
      "Cbc0038I After 0.09 seconds - Feasibility pump exiting - took 0.06 seconds\n",
      "Cbc0012I Integer solution of 982 found by DiveCoefficient after 30 iterations and 0 nodes (0.12 seconds)\n",
      "Cbc0031I 9 added rows had average density of 35.333333\n",
      "Cbc0013I At root node, 9 cuts changed objective from 967 to 982 in 8 passes\n",
      "Cbc0014I Cut generator 0 (Probing) - 15 row cuts average 15.3 elements, 0 column cuts (0 active)  in 0.013 seconds - new frequency is 1\n",
      "Cbc0014I Cut generator 1 (Gomory) - 13 row cuts average 83.2 elements, 0 column cuts (0 active)  in 0.001 seconds - new frequency is 1\n",
      "Cbc0014I Cut generator 2 (Knapsack) - 6 row cuts average 9.7 elements, 0 column cuts (0 active)  in 0.002 seconds - new frequency is 1\n",
      "Cbc0014I Cut generator 3 (Clique) - 0 row cuts average 0.0 elements, 0 column cuts (0 active)  in 0.000 seconds - new frequency is -100\n",
      "Cbc0014I Cut generator 4 (MixedIntegerRounding2) - 13 row cuts average 29.1 elements, 0 column cuts (0 active)  in 0.001 seconds - new frequency is 1\n",
      "Cbc0014I Cut generator 5 (FlowCover) - 0 row cuts average 0.0 elements, 0 column cuts (0 active)  in 0.000 seconds - new frequency is -100\n",
      "Cbc0014I Cut generator 6 (TwoMirCuts) - 15 row cuts average 48.5 elements, 0 column cuts (0 active)  in 0.001 seconds - new frequency is 1\n",
      "Cbc0001I Search completed - best objective 982, took 30 iterations and 0 nodes (0.12 seconds)\n",
      "Cbc0035I Maximum depth 0, 0 variables fixed on reduced cost\n",
      "Cuts at root node changed objective from 967 to 982\n",
      "Probing was tried 8 times and created 15 cuts of which 0 were active after adding rounds of cuts (0.013 seconds)\n",
      "Gomory was tried 8 times and created 13 cuts of which 0 were active after adding rounds of cuts (0.001 seconds)\n",
      "Knapsack was tried 8 times and created 6 cuts of which 0 were active after adding rounds of cuts (0.002 seconds)\n",
      "Clique was tried 8 times and created 0 cuts of which 0 were active after adding rounds of cuts (0.000 seconds)\n",
      "MixedIntegerRounding2 was tried 8 times and created 13 cuts of which 0 were active after adding rounds of cuts (0.001 seconds)\n",
      "FlowCover was tried 8 times and created 0 cuts of which 0 were active after adding rounds of cuts (0.000 seconds)\n",
      "TwoMirCuts was tried 8 times and created 15 cuts of which 0 were active after adding rounds of cuts (0.001 seconds)\n",
      "ZeroHalf was tried 1 times and created 0 cuts of which 0 were active after adding rounds of cuts (0.000 seconds)\n",
      "\n",
      "Result - Optimal solution found\n",
      "\n",
      "Objective value:                982.00000000\n",
      "Enumerated nodes:               0\n",
      "Total iterations:               30\n",
      "Time (CPU seconds):             0.11\n",
      "Time (Wallclock seconds):       0.12\n",
      "\n",
      "Option for printingOptions changed from normal to all\n",
      "Total time (CPU seconds):       0.12   (Wallclock seconds):       0.13\n",
      "\n",
      "hotels_0,_18 = 1.0\n",
      "hotels_0,_65 = 1.0\n",
      "hotels_0,_89 = 1.0\n",
      "hotels_0,_90 = 1.0\n",
      "hotels_18,12 = 1.0\n",
      "hotels_18,19 = 1.0\n",
      "hotels_18,6 = 1.0\n",
      "hotels_18,7 = 1.0\n",
      "hotels_18,8 = 1.0\n",
      "hotels_65,1 = 1.0\n",
      "hotels_65,13 = 1.0\n",
      "hotels_65,16 = 1.0\n",
      "hotels_65,4 = 1.0\n",
      "hotels_89,10 = 1.0\n",
      "hotels_89,14 = 1.0\n",
      "hotels_89,17 = 1.0\n",
      "hotels_89,18 = 1.0\n",
      "hotels_89,2 = 1.0\n",
      "hotels_89,3 = 1.0\n",
      "hotels_89,9 = 1.0\n",
      "hotels_90,0 = 1.0\n",
      "hotels_90,11 = 1.0\n",
      "hotels_90,15 = 1.0\n",
      "hotels_90,5 = 1.0\n"
     ]
    }
   ],
   "source": [
    "min_days = 4\n",
    "max_days = 8\n",
    "\n",
    "x_lp = LpVariable.dicts(\"hotels\", x, cat=\"Binary\")\n",
    "prob = LpProblem(\"mix_and_save\", LpMinimize)\n",
    "# objective\n",
    "prob += lpSum([p[i]*x_lp[i] for i in x])\n",
    "# booking constraint\n",
    "prob += lpSum([b[i]*x_lp[i] for i in x]) == 0\n",
    "# for everyday a booking\n",
    "for i in range(n_days):\n",
    "    prob += lpSum([x_lp[j] for j in x if int(j.split(\",\")[-1]) == i]) == 1\n",
    "\n",
    "# max days \n",
    "for i in range(1,n_hotels+1):\n",
    "#    prob += lpSum([x_lp[j] for j in x if int(j.split(\",\")[0]) == i]) <= max_days\n",
    "    max_cons = [x_lp[j] for j in x if int(j.split(\",\")[0]) == i]\n",
    "    max_cons.append(-max_days*x_lp[x[i-1]])\n",
    "    prob += lpSum(max_cons) <= 0\n",
    "    \n",
    "    min_cons = [x_lp[j] for j in x if int(j.split(\",\")[0]) == i]\n",
    "    min_cons.append(-min_days*x_lp[x[i-1]])\n",
    "    prob += lpSum(min_cons) >= 0\n",
    "    \n",
    "# trip chinks\n",
    "n_periods_min = 3\n",
    "n_periods_max = 4\n",
    "\n",
    "prob += lpSum([x_lp[x[i]] for i in range(n_hotels)]) <= n_periods_max\n",
    "prob += lpSum([x_lp[x[i]] for i in range(n_hotels)]) >= n_periods_min\n",
    "    \n",
    "    #    prob += lpSum([x_lp[j] for j in x if int(j.split(\",\")[0]) == i]) <= max_days\n",
    "\n",
    "# min days\n",
    "#for i in range(1,n_hotels+1):\n",
    "    \n",
    "    #min_con = [x_lp[j] for j in x if int(j.split(\",\")[0]) == i]\n",
    "    #min_con.append(x_lp[x[i-1]]*min_days)\n",
    "    #prob += lpSum(min_con) >= min_days\n",
    "#    min_con = [(1-x_lp[x[i-1]])*min_days]\n",
    "#    min_con.extend(x_lp[j] for j in x if int(j.split(\",\")[0]) == i)\n",
    "#    prob += lpSum(min_con) >= min_days \n",
    "\n",
    "# min and max number of periods\n",
    "\n",
    "    \n",
    "prob.solve()\n",
    "for v in prob.variables():\n",
    "    if v.varValue>0:\n",
    "        print(v.name, \"=\", v.varValue)"
   ]
  },
  {
   "cell_type": "code",
   "execution_count": 165,
   "id": "b7823030-bf14-4aae-bb51-f2578ed3faf3",
   "metadata": {},
   "outputs": [],
   "source": [
    "min_days = 2\n",
    "max_days = 4"
   ]
  },
  {
   "cell_type": "code",
   "execution_count": 180,
   "id": "7ba6c1e6-353a-4e19-bfc5-b6afe20cd8c2",
   "metadata": {},
   "outputs": [
    {
     "data": {
      "text/plain": [
       "array([ True,  True,  True,  True, False, False,  True, False, False,\n",
       "       False,  True,  True, False,  True, False,  True, False, False,\n",
       "        True,  True])"
      ]
     },
     "execution_count": 180,
     "metadata": {},
     "output_type": "execute_result"
    }
   ],
   "source": [
    "~B[0,:]#.astype(int)"
   ]
  },
  {
   "cell_type": "code",
   "execution_count": 198,
   "id": "c69dad4b-58da-4b28-ac39-867fc5870736",
   "metadata": {},
   "outputs": [
    {
     "data": {
      "text/plain": [
       "array([False, False,  True, False, False, False, False, False, False,\n",
       "        True,  True,  True, False,  True, False, False, False,  True])"
      ]
     },
     "execution_count": 198,
     "metadata": {},
     "output_type": "execute_result"
    }
   ],
   "source": [
    "k"
   ]
  },
  {
   "cell_type": "code",
   "execution_count": 202,
   "id": "350ddb24-e58b-4086-a975-82f22785d482",
   "metadata": {},
   "outputs": [],
   "source": [
    "k = np.convolve(~B[0,:], np.array([1,1]),mode=\"valid\") == 2\n",
    "\n",
    "j = np.zeros(n_days)\n",
    "j[2-1:20] = k"
   ]
  },
  {
   "cell_type": "code",
   "execution_count": 203,
   "id": "fbf4e153-5eb5-4edd-b16c-538eb3eb88e1",
   "metadata": {},
   "outputs": [
    {
     "data": {
      "text/plain": [
       "array([0., 1., 1., 1., 0., 0., 0., 0., 0., 0., 0., 1., 0., 0., 0., 0., 0.,\n",
       "       0., 0., 1.])"
      ]
     },
     "execution_count": 203,
     "metadata": {},
     "output_type": "execute_result"
    }
   ],
   "source": [
    "j"
   ]
  },
  {
   "cell_type": "code",
   "execution_count": 195,
   "id": "9a743b8d-6d71-4374-9186-d95339801395",
   "metadata": {},
   "outputs": [],
   "source": []
  },
  {
   "cell_type": "markdown",
   "id": "3f045a87-296f-424d-ac22-4c916d9ecea2",
   "metadata": {},
   "source": [
    "### 1. Load Hotel Pricing Data"
   ]
  },
  {
   "cell_type": "markdown",
   "id": "4acaddbb-f0ed-40c7-83a6-60953810e902",
   "metadata": {},
   "source": [
    "The hote pricing data is given as an excel `hotels.xlsx` which is already downloaded and added to this repository. The original dataset can be found on https://www.kaggle.com/datasets/djusdjus/hotel-rooms-prices-dataset and consists of 120 rows of hotel accomodation data from www.booking.com. The most important columns in the data are the `Hotel name` , `Price(BAM)`and `Rooms`. A combination of `Hotel name` and `Rooms`will be considered a hotel room type corresponding to a unique index $i$ as defined above. Similarly does `Price (BAM)`correspond to $r_i$ the daily rate for a particular room."
   ]
  },
  {
   "cell_type": "code",
   "execution_count": 2,
   "id": "efc46d08-f8b2-4bea-b4c9-82776336a486",
   "metadata": {},
   "outputs": [],
   "source": [
    "import pandas as pd\n",
    "import numpy as np\n",
    "import matplotlib.pyplot as plt\n",
    "\n",
    "from pulp import LpProblem, LpVariable, LpMinimize, lpSum"
   ]
  },
  {
   "cell_type": "code",
   "execution_count": 3,
   "id": "2dd65625-785f-4720-be9b-14bf7213fcdf",
   "metadata": {},
   "outputs": [],
   "source": [
    "data = pd.read_excel(\"hotels.xlsx\")"
   ]
  },
  {
   "cell_type": "code",
   "execution_count": 4,
   "id": "851838cc-f164-4155-861b-cd47bd5866a3",
   "metadata": {},
   "outputs": [
    {
     "data": {
      "text/html": [
       "<div>\n",
       "<style scoped>\n",
       "    .dataframe tbody tr th:only-of-type {\n",
       "        vertical-align: middle;\n",
       "    }\n",
       "\n",
       "    .dataframe tbody tr th {\n",
       "        vertical-align: top;\n",
       "    }\n",
       "\n",
       "    .dataframe thead th {\n",
       "        text-align: right;\n",
       "    }\n",
       "</style>\n",
       "<table border=\"1\" class=\"dataframe\">\n",
       "  <thead>\n",
       "    <tr style=\"text-align: right;\">\n",
       "      <th></th>\n",
       "      <th>ID</th>\n",
       "      <th>Hotel name</th>\n",
       "      <th>Price(BAM)</th>\n",
       "      <th>Hotel star rating</th>\n",
       "      <th>Distance</th>\n",
       "      <th>Customer rating</th>\n",
       "      <th>Rooms</th>\n",
       "      <th>Squares</th>\n",
       "      <th>City</th>\n",
       "    </tr>\n",
       "  </thead>\n",
       "  <tbody>\n",
       "    <tr>\n",
       "      <th>0</th>\n",
       "      <td>1</td>\n",
       "      <td>Europe</td>\n",
       "      <td>139</td>\n",
       "      <td>5</td>\n",
       "      <td>350</td>\n",
       "      <td>8.3</td>\n",
       "      <td>1</td>\n",
       "      <td>25</td>\n",
       "      <td>Sarajevo</td>\n",
       "    </tr>\n",
       "    <tr>\n",
       "      <th>1</th>\n",
       "      <td>2</td>\n",
       "      <td>Europe</td>\n",
       "      <td>187</td>\n",
       "      <td>5</td>\n",
       "      <td>350</td>\n",
       "      <td>8.3</td>\n",
       "      <td>2</td>\n",
       "      <td>40</td>\n",
       "      <td>Sarajevo</td>\n",
       "    </tr>\n",
       "    <tr>\n",
       "      <th>2</th>\n",
       "      <td>3</td>\n",
       "      <td>Hills</td>\n",
       "      <td>255</td>\n",
       "      <td>5</td>\n",
       "      <td>10000</td>\n",
       "      <td>8.5</td>\n",
       "      <td>3</td>\n",
       "      <td>42</td>\n",
       "      <td>Sarajevo</td>\n",
       "    </tr>\n",
       "    <tr>\n",
       "      <th>3</th>\n",
       "      <td>4</td>\n",
       "      <td>Hills</td>\n",
       "      <td>141</td>\n",
       "      <td>5</td>\n",
       "      <td>10000</td>\n",
       "      <td>8.5</td>\n",
       "      <td>2</td>\n",
       "      <td>42</td>\n",
       "      <td>Sarajevo</td>\n",
       "    </tr>\n",
       "    <tr>\n",
       "      <th>4</th>\n",
       "      <td>5</td>\n",
       "      <td>Boutique</td>\n",
       "      <td>117</td>\n",
       "      <td>4</td>\n",
       "      <td>450</td>\n",
       "      <td>8.7</td>\n",
       "      <td>1</td>\n",
       "      <td>15</td>\n",
       "      <td>Sarajevo</td>\n",
       "    </tr>\n",
       "    <tr>\n",
       "      <th>...</th>\n",
       "      <td>...</td>\n",
       "      <td>...</td>\n",
       "      <td>...</td>\n",
       "      <td>...</td>\n",
       "      <td>...</td>\n",
       "      <td>...</td>\n",
       "      <td>...</td>\n",
       "      <td>...</td>\n",
       "      <td>...</td>\n",
       "    </tr>\n",
       "    <tr>\n",
       "      <th>115</th>\n",
       "      <td>116</td>\n",
       "      <td>WUD Hotel</td>\n",
       "      <td>121</td>\n",
       "      <td>3</td>\n",
       "      <td>3200</td>\n",
       "      <td>8.9</td>\n",
       "      <td>2</td>\n",
       "      <td>40</td>\n",
       "      <td>Ljubljana</td>\n",
       "    </tr>\n",
       "    <tr>\n",
       "      <th>116</th>\n",
       "      <td>117</td>\n",
       "      <td>uHotel</td>\n",
       "      <td>161</td>\n",
       "      <td>4</td>\n",
       "      <td>250</td>\n",
       "      <td>9.0</td>\n",
       "      <td>1</td>\n",
       "      <td>28</td>\n",
       "      <td>Ljubljana</td>\n",
       "    </tr>\n",
       "    <tr>\n",
       "      <th>117</th>\n",
       "      <td>118</td>\n",
       "      <td>Allegro Hotel</td>\n",
       "      <td>106</td>\n",
       "      <td>4</td>\n",
       "      <td>550</td>\n",
       "      <td>8.5</td>\n",
       "      <td>1</td>\n",
       "      <td>35</td>\n",
       "      <td>Ljubljana</td>\n",
       "    </tr>\n",
       "    <tr>\n",
       "      <th>118</th>\n",
       "      <td>119</td>\n",
       "      <td>M Hotel</td>\n",
       "      <td>123</td>\n",
       "      <td>4</td>\n",
       "      <td>2400</td>\n",
       "      <td>8.4</td>\n",
       "      <td>1</td>\n",
       "      <td>31</td>\n",
       "      <td>Ljubljana</td>\n",
       "    </tr>\n",
       "    <tr>\n",
       "      <th>119</th>\n",
       "      <td>120</td>\n",
       "      <td>Austria Trend Hotel</td>\n",
       "      <td>137</td>\n",
       "      <td>4</td>\n",
       "      <td>3500</td>\n",
       "      <td>8.8</td>\n",
       "      <td>1</td>\n",
       "      <td>34</td>\n",
       "      <td>Ljubljana</td>\n",
       "    </tr>\n",
       "  </tbody>\n",
       "</table>\n",
       "<p>120 rows × 9 columns</p>\n",
       "</div>"
      ],
      "text/plain": [
       "      ID           Hotel name  Price(BAM)  Hotel star rating  Distance  \\\n",
       "0      1               Europe         139                  5       350   \n",
       "1      2               Europe         187                  5       350   \n",
       "2      3                Hills         255                  5     10000   \n",
       "3      4                Hills         141                  5     10000   \n",
       "4      5             Boutique         117                  4       450   \n",
       "..   ...                  ...         ...                ...       ...   \n",
       "115  116            WUD Hotel         121                  3      3200   \n",
       "116  117               uHotel         161                  4       250   \n",
       "117  118        Allegro Hotel         106                  4       550   \n",
       "118  119              M Hotel         123                  4      2400   \n",
       "119  120  Austria Trend Hotel         137                  4      3500   \n",
       "\n",
       "     Customer rating  Rooms  Squares       City  \n",
       "0                8.3      1       25   Sarajevo  \n",
       "1                8.3      2       40   Sarajevo  \n",
       "2                8.5      3       42   Sarajevo  \n",
       "3                8.5      2       42   Sarajevo  \n",
       "4                8.7      1       15   Sarajevo  \n",
       "..               ...    ...      ...        ...  \n",
       "115              8.9      2       40  Ljubljana  \n",
       "116              9.0      1       28  Ljubljana  \n",
       "117              8.5      1       35  Ljubljana  \n",
       "118              8.4      1       31  Ljubljana  \n",
       "119              8.8      1       34  Ljubljana  \n",
       "\n",
       "[120 rows x 9 columns]"
      ]
     },
     "execution_count": 4,
     "metadata": {},
     "output_type": "execute_result"
    }
   ],
   "source": [
    "data"
   ]
  },
  {
   "cell_type": "markdown",
   "id": "1f6bf352-2e59-4771-9b98-f9c7debffb79",
   "metadata": {},
   "source": [
    "### 2. Generate Hotel Bookings\n",
    "If all rooms would be availible on the planned period, the optimization problem would be trivial, as one could just choose the hotel with the cheapest rate."
   ]
  },
  {
   "cell_type": "code",
   "execution_count": 176,
   "id": "846e0925-4fc1-4c73-bac6-b7a72efc7f3a",
   "metadata": {},
   "outputs": [],
   "source": [
    "data = pd.read_excel(\"hotels.xlsx\")\n",
    "# booked \n",
    "n_hotels = len(data)\n",
    "n_days = 30\n",
    "\n",
    "B = np.zeros((n_hotels, n_days), dtype=bool)\n",
    "\n",
    "# parameters \n",
    "\n",
    "not_booked = 0.0\n",
    "\n",
    "not_booked_idx = np.random.choice(np.arange(1,n_hotels+1), size=int(not_booked*n_hotels), replace=False)\n",
    "\n",
    "# fill booked matrix, False: not booked, True: Booked\n",
    "for i in range(n_hotels):\n",
    "    if i+1 not in not_booked_idx:\n",
    "        thresh = np.random.rand()\n",
    "        B[i] = np.random.rand(n_days) > thresh"
   ]
  },
  {
   "cell_type": "code",
   "execution_count": 177,
   "id": "84b23999-878f-4946-8237-f546b32346c2",
   "metadata": {},
   "outputs": [],
   "source": [
    "# split B in chunks\n",
    "n_chunks = 5\n",
    "\n",
    "def filter_hotels(hotels, B, n_chunks):\n",
    "    # splits the timeframes in n equally sized chunks\n",
    "    # filters hotels that are not booked in the chunks\n",
    "    n_h, n_d = B.shape\n",
    "    days_per_chunk = int(n_d/n_chunks)\n",
    "    valid_hotels_idx = []\n",
    "    chunk_lengths = []\n",
    "    for i in range(n_chunks - 1):\n",
    "        chunk = B[:,i*days_per_chunk:days_per_chunk*(i+1)]\n",
    "        chunk_lengths.append(chunk.shape[1])\n",
    "        valid_hotels_idx.append(np.where(np.any(chunk, axis=1) == False)[0])\n",
    "    chunk = B[:,(i+1)*days_per_chunk:]\n",
    "    chunk_lengths.append(chunk.shape[1])\n",
    "    valid_hotels_idx.append(np.where(np.any(chunk, axis=1) == False)[0])\n",
    "    return valid_hotels_idx, chunk_lengths\n",
    "\n",
    "        \n",
    "def decision_prices_vector(valid_hotels_idx, chunk_lengths):\n",
    "    x = []\n",
    "    prices = []\n",
    "    for i,valid in enumerate(valid_hotels_idx):\n",
    "        x.extend([str(idx)+\"_\"+str(i) for idx in list(valid)])\n",
    "        prices_arr = data.iloc[valid,:][\"Price(BAM)\"]*chunk_lengths[i]\n",
    "        prices.extend(prices_arr.tolist())\n",
    "    prices = dict(zip(x,prices))\n",
    "    return x, prices\n",
    "    \n",
    "c, chunk_lengths  = filter_hotels(data, B, n_chunks)\n",
    "\n",
    "x,p = decision_prices_vector(c, chunk_lengths)"
   ]
  },
  {
   "cell_type": "code",
   "execution_count": 185,
   "id": "847ff414-6c17-4bad-a181-3d57e9aad2f8",
   "metadata": {},
   "outputs": [
    {
     "name": "stderr",
     "output_type": "stream",
     "text": [
      "/tmp/ipykernel_4328/2991691734.py:2: SettingWithCopyWarning: \n",
      "A value is trying to be set on a copy of a slice from a DataFrame.\n",
      "Try using .loc[row_indexer,col_indexer] = value instead\n",
      "\n",
      "See the caveats in the documentation: https://pandas.pydata.org/pandas-docs/stable/user_guide/indexing.html#returning-a-view-versus-a-copy\n",
      "  entire_stay_hotels[\"total Price\"] = entire_stay_hotels[\"Price(BAM)\"] * n_days\n"
     ]
    },
    {
     "data": {
      "text/html": [
       "<div>\n",
       "<style scoped>\n",
       "    .dataframe tbody tr th:only-of-type {\n",
       "        vertical-align: middle;\n",
       "    }\n",
       "\n",
       "    .dataframe tbody tr th {\n",
       "        vertical-align: top;\n",
       "    }\n",
       "\n",
       "    .dataframe thead th {\n",
       "        text-align: right;\n",
       "    }\n",
       "</style>\n",
       "<table border=\"1\" class=\"dataframe\">\n",
       "  <thead>\n",
       "    <tr style=\"text-align: right;\">\n",
       "      <th></th>\n",
       "      <th>ID</th>\n",
       "      <th>Hotel name</th>\n",
       "      <th>Price(BAM)</th>\n",
       "      <th>Hotel star rating</th>\n",
       "      <th>Distance</th>\n",
       "      <th>Customer rating</th>\n",
       "      <th>Rooms</th>\n",
       "      <th>Squares</th>\n",
       "      <th>City</th>\n",
       "      <th>total Price</th>\n",
       "    </tr>\n",
       "  </thead>\n",
       "  <tbody>\n",
       "    <tr>\n",
       "      <th>25</th>\n",
       "      <td>26</td>\n",
       "      <td>Bristol</td>\n",
       "      <td>88</td>\n",
       "      <td>4</td>\n",
       "      <td>3400</td>\n",
       "      <td>8.7</td>\n",
       "      <td>2</td>\n",
       "      <td>22</td>\n",
       "      <td>Sarajevo</td>\n",
       "      <td>2640</td>\n",
       "    </tr>\n",
       "    <tr>\n",
       "      <th>67</th>\n",
       "      <td>68</td>\n",
       "      <td>Hotel N</td>\n",
       "      <td>176</td>\n",
       "      <td>3</td>\n",
       "      <td>5000</td>\n",
       "      <td>7.8</td>\n",
       "      <td>2</td>\n",
       "      <td>56</td>\n",
       "      <td>Belgrade</td>\n",
       "      <td>5280</td>\n",
       "    </tr>\n",
       "    <tr>\n",
       "      <th>1</th>\n",
       "      <td>2</td>\n",
       "      <td>Europe</td>\n",
       "      <td>187</td>\n",
       "      <td>5</td>\n",
       "      <td>350</td>\n",
       "      <td>8.3</td>\n",
       "      <td>2</td>\n",
       "      <td>40</td>\n",
       "      <td>Sarajevo</td>\n",
       "      <td>5610</td>\n",
       "    </tr>\n",
       "    <tr>\n",
       "      <th>44</th>\n",
       "      <td>45</td>\n",
       "      <td>International</td>\n",
       "      <td>253</td>\n",
       "      <td>4</td>\n",
       "      <td>1600</td>\n",
       "      <td>8.7</td>\n",
       "      <td>4</td>\n",
       "      <td>38</td>\n",
       "      <td>Zagreb</td>\n",
       "      <td>7590</td>\n",
       "    </tr>\n",
       "    <tr>\n",
       "      <th>77</th>\n",
       "      <td>78</td>\n",
       "      <td>Hyatt</td>\n",
       "      <td>255</td>\n",
       "      <td>5</td>\n",
       "      <td>2100</td>\n",
       "      <td>8.9</td>\n",
       "      <td>2</td>\n",
       "      <td>38</td>\n",
       "      <td>Belgrade</td>\n",
       "      <td>7650</td>\n",
       "    </tr>\n",
       "  </tbody>\n",
       "</table>\n",
       "</div>"
      ],
      "text/plain": [
       "    ID     Hotel name  Price(BAM)  Hotel star rating  Distance  \\\n",
       "25  26        Bristol          88                  4      3400   \n",
       "67  68       Hotel N          176                  3      5000   \n",
       "1    2         Europe         187                  5       350   \n",
       "44  45  International         253                  4      1600   \n",
       "77  78          Hyatt         255                  5      2100   \n",
       "\n",
       "    Customer rating  Rooms  Squares      City  total Price  \n",
       "25              8.7      2       22  Sarajevo         2640  \n",
       "67              7.8      2       56  Belgrade         5280  \n",
       "1               8.3      2       40  Sarajevo         5610  \n",
       "44              8.7      4       38    Zagreb         7590  \n",
       "77              8.9      2       38  Belgrade         7650  "
      ]
     },
     "execution_count": 185,
     "metadata": {},
     "output_type": "execute_result"
    }
   ],
   "source": [
    "entire_stay_hotels = data.loc[np.any(B, axis=1) == False]\n",
    "entire_stay_hotels[\"total Price\"] = entire_stay_hotels[\"Price(BAM)\"] * n_days \n",
    "entire_stay_hotels.sort_values(\"total Price\")"
   ]
  },
  {
   "cell_type": "code",
   "execution_count": 297,
   "id": "e3bf03c2-e878-40a2-b2de-42c73ca0d4a7",
   "metadata": {},
   "outputs": [
    {
     "data": {
      "text/plain": [
       "'0'"
      ]
     },
     "execution_count": 297,
     "metadata": {},
     "output_type": "execute_result"
    }
   ],
   "source": [
    "x[0].split(\"_\")[-1]"
   ]
  },
  {
   "cell_type": "code",
   "execution_count": 179,
   "id": "96c240e6-aa24-46e1-a226-173aedd36646",
   "metadata": {},
   "outputs": [
    {
     "name": "stdout",
     "output_type": "stream",
     "text": [
      "Welcome to the CBC MILP Solver \n",
      "Version: 2.10.5 \n",
      "Build Date: Oct 15 2020 \n",
      "\n",
      "command line - cbc /tmp/e117f47ee2c84d7b95d3468de52c2415-pulp.mps timeMode elapsed branch printingOptions all solution /tmp/e117f47ee2c84d7b95d3468de52c2415-pulp.sol (default strategy 1)\n",
      "At line 2 NAME          MODEL\n",
      "At line 3 ROWS\n",
      "At line 10 COLUMNS\n",
      "At line 403 RHS\n",
      "At line 409 BOUNDS\n",
      "At line 508 ENDATA\n",
      "Problem MODEL has 5 rows, 98 columns and 98 elements\n",
      "Coin0008I MODEL read with 0 errors\n",
      "Option for timeMode changed from cpu to elapsed\n",
      "Continuous objective value is 1974 - 0.00 seconds\n",
      "Cgl0004I processed model has 0 rows, 0 columns (0 integer (0 of which binary)) and 0 elements\n",
      "Cbc3007W No integer variables - nothing to do\n",
      "Cuts at root node changed objective from 1974 to -1.79769e+308\n",
      "Probing was tried 0 times and created 0 cuts of which 0 were active after adding rounds of cuts (0.000 seconds)\n",
      "Gomory was tried 0 times and created 0 cuts of which 0 were active after adding rounds of cuts (0.000 seconds)\n",
      "Knapsack was tried 0 times and created 0 cuts of which 0 were active after adding rounds of cuts (0.000 seconds)\n",
      "Clique was tried 0 times and created 0 cuts of which 0 were active after adding rounds of cuts (0.000 seconds)\n",
      "MixedIntegerRounding2 was tried 0 times and created 0 cuts of which 0 were active after adding rounds of cuts (0.000 seconds)\n",
      "FlowCover was tried 0 times and created 0 cuts of which 0 were active after adding rounds of cuts (0.000 seconds)\n",
      "TwoMirCuts was tried 0 times and created 0 cuts of which 0 were active after adding rounds of cuts (0.000 seconds)\n",
      "ZeroHalf was tried 0 times and created 0 cuts of which 0 were active after adding rounds of cuts (0.000 seconds)\n",
      "\n",
      "Result - Optimal solution found\n",
      "\n",
      "Objective value:                1974.00000000\n",
      "Enumerated nodes:               0\n",
      "Total iterations:               0\n",
      "Time (CPU seconds):             0.00\n",
      "Time (Wallclock seconds):       0.00\n",
      "\n",
      "Option for printingOptions changed from normal to all\n",
      "Total time (CPU seconds):       0.00   (Wallclock seconds):       0.00\n",
      "\n"
     ]
    }
   ],
   "source": [
    "def solve_hotel_choices(x, p, n_chunks):\n",
    "    # decision variables\n",
    "    x_lp = LpVariable.dicts(\"hotels\", x, cat=\"Binary\")\n",
    "\n",
    "    prob = LpProblem(\"mix_and_save\", LpMinimize)\n",
    "\n",
    "    prob += lpSum([p[i]*x_lp[i] for i in x])\n",
    "\n",
    "    #prob += lpSum([x_lp[i] for i in x]) == n_chunks\n",
    "\n",
    "    for i in range(n_chunks):\n",
    "        prob += lpSum([x_lp[xs] for xs in x if i == int(xs.split(\"_\")[-1])]) == 1\n",
    "    prob.solve()\n",
    "    return prob\n",
    "    \n",
    "prob = solve_hotel_choices(x,p,n_chunks)    "
   ]
  },
  {
   "cell_type": "code",
   "execution_count": 180,
   "id": "4002e6fe-5a81-4c0c-be35-c2492b2e3c1d",
   "metadata": {},
   "outputs": [
    {
     "name": "stdout",
     "output_type": "stream",
     "text": [
      "hotels_105_3 = 1.0\n",
      "372  BAM\n",
      "hotels_17_2 = 1.0\n",
      "234  BAM\n",
      "hotels_76_0 = 1.0\n",
      "456  BAM\n",
      "hotels_76_1 = 1.0\n",
      "456  BAM\n",
      "hotels_76_4 = 1.0\n",
      "456  BAM\n",
      "total =  1974\n"
     ]
    }
   ],
   "source": [
    "def get_optimum(prob, p):\n",
    "    chosen = {}\n",
    "    total = 0\n",
    "    for v in prob.variables():\n",
    "        if v.varValue>0:\n",
    "            print(v.name, \"=\", v.varValue)\n",
    "            name = v.name.split(\"_\",1)[-1]\n",
    "            price = p[name]\n",
    "            chosen[name] = price\n",
    "            print(price, \" BAM\")\n",
    "            total += price\n",
    "    print(\"total = \", total)\n",
    "    return chosen\n",
    "\n",
    "opt = get_optimum(prob, p)"
   ]
  },
  {
   "cell_type": "code",
   "execution_count": 301,
   "id": "d7ac447c-596e-4f5a-9917-1ff07c664d47",
   "metadata": {},
   "outputs": [
    {
     "name": "stdout",
     "output_type": "stream",
     "text": [
      "hotels_105_2 = 1.0\n",
      "hotels_17_0 = 1.0\n",
      "hotels_17_1 = 1.0\n"
     ]
    }
   ],
   "source": [
    "for v in prob.variables():\n",
    "    if v.varValue>0:\n",
    "        print(v.name, \"=\", v.varValue)"
   ]
  },
  {
   "cell_type": "code",
   "execution_count": 329,
   "id": "a13efa77-43a6-4261-8d7b-3014f45d92dc",
   "metadata": {},
   "outputs": [
    {
     "name": "stdout",
     "output_type": "stream",
     "text": [
      "Welcome to the CBC MILP Solver \n",
      "Version: 2.10.5 \n",
      "Build Date: Oct 15 2020 \n",
      "\n",
      "command line - cbc /tmp/91a9401eb70548b0ab6b811a3ef8969e-pulp.mps timeMode elapsed branch printingOptions all solution /tmp/91a9401eb70548b0ab6b811a3ef8969e-pulp.sol (default strategy 1)\n",
      "At line 2 NAME          MODEL\n",
      "At line 3 ROWS\n",
      "At line 8 COLUMNS\n",
      "At line 257 RHS\n",
      "At line 261 BOUNDS\n",
      "At line 324 ENDATA\n",
      "Problem MODEL has 3 rows, 62 columns and 62 elements\n",
      "Coin0008I MODEL read with 0 errors\n",
      "Option for timeMode changed from cpu to elapsed\n",
      "Continuous objective value is 764 - 0.00 seconds\n",
      "Cgl0004I processed model has 0 rows, 0 columns (0 integer (0 of which binary)) and 0 elements\n",
      "Cbc3007W No integer variables - nothing to do\n",
      "Cuts at root node changed objective from 764 to -1.79769e+308\n",
      "Probing was tried 0 times and created 0 cuts of which 0 were active after adding rounds of cuts (0.000 seconds)\n",
      "Gomory was tried 0 times and created 0 cuts of which 0 were active after adding rounds of cuts (0.000 seconds)\n",
      "Knapsack was tried 0 times and created 0 cuts of which 0 were active after adding rounds of cuts (0.000 seconds)\n",
      "Clique was tried 0 times and created 0 cuts of which 0 were active after adding rounds of cuts (0.000 seconds)\n",
      "MixedIntegerRounding2 was tried 0 times and created 0 cuts of which 0 were active after adding rounds of cuts (0.000 seconds)\n",
      "FlowCover was tried 0 times and created 0 cuts of which 0 were active after adding rounds of cuts (0.000 seconds)\n",
      "TwoMirCuts was tried 0 times and created 0 cuts of which 0 were active after adding rounds of cuts (0.000 seconds)\n",
      "ZeroHalf was tried 0 times and created 0 cuts of which 0 were active after adding rounds of cuts (0.000 seconds)\n",
      "\n",
      "Result - Optimal solution found\n",
      "\n",
      "Objective value:                764.00000000\n",
      "Enumerated nodes:               0\n",
      "Total iterations:               0\n",
      "Time (CPU seconds):             0.00\n",
      "Time (Wallclock seconds):       0.00\n",
      "\n",
      "Option for printingOptions changed from normal to all\n",
      "Total time (CPU seconds):       0.00   (Wallclock seconds):       0.00\n",
      "\n",
      "hotels_105_2 = 1.0\n",
      "372  BAM\n",
      "hotels_17_0 = 1.0\n",
      "156  BAM\n",
      "hotels_66_1 = 1.0\n",
      "236  BAM\n",
      "total =  764\n"
     ]
    },
    {
     "data": {
      "text/plain": [
       "{'105_2': 372, '17_0': 156, '66_1': 236}"
      ]
     },
     "execution_count": 329,
     "metadata": {},
     "output_type": "execute_result"
    }
   ],
   "source": [
    "def subsample_hotels(x, p, prop):\n",
    "    idx = np.arange(len(x))\n",
    "    idx_sample = np.random.choice(idx, size=int(prop*len(x)), replace=False)\n",
    "    x = [xs for i,xs in enumerate(x) if i  in idx_sample]\n",
    "    p = {xs: p[xs] for xs in x}\n",
    "    return x, p \n",
    "\n",
    "x_sample, p_sample = subsample_hotels(x,p,0.8)\n",
    "\n",
    "prob = solve_hotel_choices(x_sample, p_sample, n_chunks)\n",
    "get_optimum(prob,p_sample)"
   ]
  },
  {
   "cell_type": "code",
   "execution_count": 284,
   "id": "c049a04b-f854-4cf9-9b6b-36b60c1c81d9",
   "metadata": {},
   "outputs": [
    {
     "data": {
      "text/plain": [
       "'hotels_(105,_2)'"
      ]
     },
     "execution_count": 284,
     "metadata": {},
     "output_type": "execute_result"
    }
   ],
   "source": [
    "v.getName()"
   ]
  },
  {
   "cell_type": "code",
   "execution_count": 272,
   "id": "1d05f8b9-b4e0-459b-acd4-19d30292f5ac",
   "metadata": {},
   "outputs": [
    {
     "name": "stdout",
     "output_type": "stream",
     "text": [
      "hotels_(105,_2) = 1.0\n"
     ]
    },
    {
     "ename": "KeyError",
     "evalue": "hotels_(105,_2)",
     "output_type": "error",
     "traceback": [
      "\u001b[0;31m---------------------------------------------------------------------------\u001b[0m",
      "\u001b[0;31mKeyError\u001b[0m                                  Traceback (most recent call last)",
      "Input \u001b[0;32mIn [272]\u001b[0m, in \u001b[0;36m<cell line: 3>\u001b[0;34m()\u001b[0m\n\u001b[1;32m      4\u001b[0m \u001b[38;5;28;01mif\u001b[39;00m v\u001b[38;5;241m.\u001b[39mvarValue\u001b[38;5;241m>\u001b[39m\u001b[38;5;241m0\u001b[39m:\n\u001b[1;32m      5\u001b[0m     \u001b[38;5;28mprint\u001b[39m(v\u001b[38;5;241m.\u001b[39mname, \u001b[38;5;124m\"\u001b[39m\u001b[38;5;124m=\u001b[39m\u001b[38;5;124m\"\u001b[39m, v\u001b[38;5;241m.\u001b[39mvarValue)\n\u001b[0;32m----> 6\u001b[0m     chosen\u001b[38;5;241m.\u001b[39mappend(\u001b[43mx_lp_x\u001b[49m\u001b[43m[\u001b[49m\u001b[43mv\u001b[49m\u001b[43m]\u001b[49m)\n",
      "\u001b[0;31mKeyError\u001b[0m: hotels_(105,_2)"
     ]
    }
   ],
   "source": [
    "x_lp_x = {v:k for k,v in x_lp.items()}\n",
    "chosen = []\n",
    "for v in prob.variables():\n",
    "    if v.varValue>0:\n",
    "        print(v.name, \"=\", v.varValue)\n",
    "        chosen.append(x_lp_x[v])"
   ]
  },
  {
   "cell_type": "code",
   "execution_count": 319,
   "id": "dbfdc138-69d1-4a70-ba3b-355ee2375b65",
   "metadata": {},
   "outputs": [],
   "source": [
    "def exclude_hotels(x, p, hotels_ex):\n",
    "    # hotels_ex: list\n",
    "    x = [xs for xs in x if xs not in hotels_ex]\n",
    "    p = {xs: p[xs] for xs in x if xs not in hotels_ex}\n",
    "    return x, p \n",
    "\n",
    "x_ex, p_ex = exclude_hotels(x,p,list(opt.keys()))"
   ]
  },
  {
   "cell_type": "code",
   "execution_count": 325,
   "id": "5be34307-9496-47fc-98b2-9d27a684f54a",
   "metadata": {},
   "outputs": [
    {
     "name": "stdout",
     "output_type": "stream",
     "text": [
      "Welcome to the CBC MILP Solver \n",
      "Version: 2.10.5 \n",
      "Build Date: Oct 15 2020 \n",
      "\n",
      "command line - cbc /tmp/2763d02e15a24caa8b5a215395b86c46-pulp.mps timeMode elapsed branch printingOptions all solution /tmp/2763d02e15a24caa8b5a215395b86c46-pulp.sol (default strategy 1)\n",
      "At line 2 NAME          MODEL\n",
      "At line 3 ROWS\n",
      "At line 8 COLUMNS\n",
      "At line 309 RHS\n",
      "At line 313 BOUNDS\n",
      "At line 389 ENDATA\n",
      "Problem MODEL has 3 rows, 75 columns and 75 elements\n",
      "Coin0008I MODEL read with 0 errors\n",
      "Option for timeMode changed from cpu to elapsed\n",
      "Continuous objective value is 952 - 0.00 seconds\n",
      "Cgl0004I processed model has 0 rows, 0 columns (0 integer (0 of which binary)) and 0 elements\n",
      "Cbc3007W No integer variables - nothing to do\n",
      "Cuts at root node changed objective from 952 to -1.79769e+308\n",
      "Probing was tried 0 times and created 0 cuts of which 0 were active after adding rounds of cuts (0.000 seconds)\n",
      "Gomory was tried 0 times and created 0 cuts of which 0 were active after adding rounds of cuts (0.000 seconds)\n",
      "Knapsack was tried 0 times and created 0 cuts of which 0 were active after adding rounds of cuts (0.000 seconds)\n",
      "Clique was tried 0 times and created 0 cuts of which 0 were active after adding rounds of cuts (0.000 seconds)\n",
      "MixedIntegerRounding2 was tried 0 times and created 0 cuts of which 0 were active after adding rounds of cuts (0.000 seconds)\n",
      "FlowCover was tried 0 times and created 0 cuts of which 0 were active after adding rounds of cuts (0.000 seconds)\n",
      "TwoMirCuts was tried 0 times and created 0 cuts of which 0 were active after adding rounds of cuts (0.000 seconds)\n",
      "ZeroHalf was tried 0 times and created 0 cuts of which 0 were active after adding rounds of cuts (0.000 seconds)\n",
      "\n",
      "Result - Optimal solution found\n",
      "\n",
      "Objective value:                952.00000000\n",
      "Enumerated nodes:               0\n",
      "Total iterations:               0\n",
      "Time (CPU seconds):             0.00\n",
      "Time (Wallclock seconds):       0.00\n",
      "\n",
      "Option for printingOptions changed from normal to all\n",
      "Total time (CPU seconds):       0.00   (Wallclock seconds):       0.00\n",
      "\n",
      "hotels_66_0 = 1.0\n",
      "236  BAM\n",
      "hotels_66_1 = 1.0\n",
      "236  BAM\n",
      "hotels_74_2 = 1.0\n",
      "480  BAM\n",
      "total =  952\n"
     ]
    },
    {
     "data": {
      "text/plain": [
       "{'66_0': 236, '66_1': 236, '74_2': 480}"
      ]
     },
     "execution_count": 325,
     "metadata": {},
     "output_type": "execute_result"
    }
   ],
   "source": [
    "get_optimum(solve_hotel_choices(x_ex,p_ex,n_chunks),p)"
   ]
  },
  {
   "cell_type": "code",
   "execution_count": null,
   "id": "7eaa9b78-e978-4148-99d1-96c4c527d5a2",
   "metadata": {},
   "outputs": [],
   "source": []
  }
 ],
 "metadata": {
  "kernelspec": {
   "display_name": "Python 3 (ipykernel)",
   "language": "python",
   "name": "python3"
  },
  "language_info": {
   "codemirror_mode": {
    "name": "ipython",
    "version": 3
   },
   "file_extension": ".py",
   "mimetype": "text/x-python",
   "name": "python",
   "nbconvert_exporter": "python",
   "pygments_lexer": "ipython3",
   "version": "3.9.12"
  }
 },
 "nbformat": 4,
 "nbformat_minor": 5
}
